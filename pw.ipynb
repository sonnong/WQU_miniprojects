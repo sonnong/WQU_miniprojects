{
 "cells": [
  {
   "cell_type": "code",
   "execution_count": 1,
   "metadata": {
    "init_cell": true
   },
   "outputs": [],
   "source": [
    "%logstop\n",
    "%logstart -rtq ~/.logs/pw.py append\n",
    "%matplotlib inline\n",
    "import matplotlib\n",
    "import seaborn as sns\n",
    "sns.set()\n",
    "matplotlib.rcParams['figure.dpi'] = 144"
   ]
  },
  {
   "cell_type": "code",
   "execution_count": 3,
   "metadata": {},
   "outputs": [],
   "source": [
    "from static_grader import grader"
   ]
  },
  {
   "cell_type": "markdown",
   "metadata": {},
   "source": [
    "# PW Miniproject\n",
    "## Introduction\n",
    "\n",
    "The objective of this miniproject is to exercise your ability to use basic Python data structures, define functions, and control program flow. We will be using these concepts to perform some fundamental data wrangling tasks such as joining data sets together, splitting data into groups, and aggregating data into summary statistics.\n",
    "**Please do not use `pandas` or `numpy` to answer these questions.**\n",
    "\n",
    "We will be working with medical data from the British NHS on prescription drugs. Since this is real data, it contains many ambiguities that we will need to confront in our analysis. This is commonplace in data science, and is one of the lessons you will learn in this miniproject."
   ]
  },
  {
   "cell_type": "markdown",
   "metadata": {},
   "source": [
    "## Downloading the data\n",
    "\n",
    "We first need to download the data we'll be using from Amazon S3:"
   ]
  },
  {
   "cell_type": "code",
   "execution_count": 4,
   "metadata": {},
   "outputs": [
    {
     "name": "stderr",
     "output_type": "stream",
     "text": [
      "mkdir: cannot create directory ‘pw-data’: File exists\n",
      "File ‘./pw-data/201701scripts_sample.json.gz’ already there; not retrieving.\n",
      "\n",
      "File ‘./pw-data/practices.json.gz’ already there; not retrieving.\n",
      "\n"
     ]
    }
   ],
   "source": [
    "%%bash\n",
    "mkdir pw-data\n",
    "wget http://dataincubator-wqu.s3.amazonaws.com/pwdata/201701scripts_sample.json.gz -nc -P ./pw-data\n",
    "wget http://dataincubator-wqu.s3.amazonaws.com/pwdata/practices.json.gz -nc -P ./pw-data"
   ]
  },
  {
   "cell_type": "markdown",
   "metadata": {},
   "source": [
    "## Loading the data\n",
    "\n",
    "The first step of the project is to read in the data. We will discuss reading and writing various kinds of files later in the course, but the code below should get you started."
   ]
  },
  {
   "cell_type": "code",
   "execution_count": 5,
   "metadata": {},
   "outputs": [],
   "source": [
    "import gzip\n",
    "import simplejson as json"
   ]
  },
  {
   "cell_type": "code",
   "execution_count": 6,
   "metadata": {},
   "outputs": [],
   "source": [
    "with gzip.open('./pw-data/201701scripts_sample.json.gz', 'rb') as f:\n",
    "    scripts = json.load(f)\n",
    "\n",
    "with gzip.open('./pw-data/practices.json.gz', 'rb') as f:\n",
    "    practices = json.load(f)"
   ]
  },
  {
   "cell_type": "markdown",
   "metadata": {},
   "source": [
    "This data set comes from Britain's National Health Service. The `scripts` variable is a list of prescriptions issued by NHS doctors. Each prescription is represented by a dictionary with various data fields: `'practice'`, `'bnf_code'`, `'bnf_name'`, `'quantity'`, `'items'`, `'nic'`, and `'act_cost'`. "
   ]
  },
  {
   "cell_type": "code",
   "execution_count": 7,
   "metadata": {},
   "outputs": [
    {
     "data": {
      "text/plain": [
       "[{'bnf_code': '0101010G0AAABAB',\n",
       "  'items': 2,\n",
       "  'practice': 'N81013',\n",
       "  'bnf_name': 'Co-Magaldrox_Susp 195mg/220mg/5ml S/F',\n",
       "  'nic': 5.98,\n",
       "  'act_cost': 5.56,\n",
       "  'quantity': 1000},\n",
       " {'bnf_code': '0101021B0AAAHAH',\n",
       "  'items': 1,\n",
       "  'practice': 'N81013',\n",
       "  'bnf_name': 'Alginate_Raft-Forming Oral Susp S/F',\n",
       "  'nic': 1.95,\n",
       "  'act_cost': 1.82,\n",
       "  'quantity': 500}]"
      ]
     },
     "execution_count": 7,
     "metadata": {},
     "output_type": "execute_result"
    }
   ],
   "source": [
    "scripts[:2]"
   ]
  },
  {
   "cell_type": "markdown",
   "metadata": {},
   "source": [
    "A [glossary of terms](http://webarchive.nationalarchives.gov.uk/20180328130852tf_/http://content.digital.nhs.uk/media/10686/Download-glossary-of-terms-for-GP-prescribing---presentation-level/pdf/PLP_Presentation_Level_Glossary_April_2015.pdf/) and [FAQ](http://webarchive.nationalarchives.gov.uk/20180328130852tf_/http://content.digital.nhs.uk/media/10048/FAQs-Practice-Level-Prescribingpdf/pdf/PLP_FAQs_April_2015.pdf/) is available from the NHS regarding the data. Below we supply a data dictionary briefly describing what these fields mean.\n",
    "\n",
    "| Data field |Description|\n",
    "|:----------:|-----------|\n",
    "|`'practice'`|Code designating the medical practice issuing the prescription|\n",
    "|`'bnf_code'`|British National Formulary drug code|\n",
    "|`'bnf_name'`|British National Formulary drug name|\n",
    "|`'quantity'`|Number of capsules/quantity of liquid/grams of powder prescribed|\n",
    "| `'items'`  |Number of refills (e.g. if `'quantity'` is 30 capsules, 3 `'items'` means 3 bottles of 30 capsules)|\n",
    "|  `'nic'`   |Net ingredient cost|\n",
    "|`'act_cost'`|Total cost including containers, fees, and discounts|"
   ]
  },
  {
   "cell_type": "markdown",
   "metadata": {},
   "source": [
    "The `practices` variable is a list of member medical practices of the NHS. Each practice is represented by a dictionary containing identifying information for the medical practice. Most of the data fields are self-explanatory. Notice the values in the `'code'` field of `practices` match the values in the `'practice'` field of `scripts`."
   ]
  },
  {
   "cell_type": "code",
   "execution_count": 8,
   "metadata": {},
   "outputs": [
    {
     "data": {
      "text/plain": [
       "[{'code': 'A81001',\n",
       "  'name': 'THE DENSHAM SURGERY',\n",
       "  'addr_1': 'THE HEALTH CENTRE',\n",
       "  'addr_2': 'LAWSON STREET',\n",
       "  'borough': 'STOCKTON ON TEES',\n",
       "  'village': 'CLEVELAND',\n",
       "  'post_code': 'TS18 1HU'},\n",
       " {'code': 'A81002',\n",
       "  'name': 'QUEENS PARK MEDICAL CENTRE',\n",
       "  'addr_1': 'QUEENS PARK MEDICAL CTR',\n",
       "  'addr_2': 'FARRER STREET',\n",
       "  'borough': 'STOCKTON ON TEES',\n",
       "  'village': 'CLEVELAND',\n",
       "  'post_code': 'TS18 2AW'}]"
      ]
     },
     "execution_count": 8,
     "metadata": {},
     "output_type": "execute_result"
    }
   ],
   "source": [
    "practices[:2]"
   ]
  },
  {
   "cell_type": "markdown",
   "metadata": {},
   "source": [
    "In the following questions we will ask you to explore this data set. You may need to combine pieces of the data set together in order to answer some questions. Not every element of the data set will be used in answering the questions."
   ]
  },
  {
   "cell_type": "markdown",
   "metadata": {},
   "source": [
    "## Question 1: summary_statistics\n",
    "\n",
    "Our beneficiary data (`scripts`) contains quantitative data on the number of items dispensed (`'items'`), the total quantity of item dispensed (`'quantity'`), the net cost of the ingredients (`'nic'`), and the actual cost to the patient (`'act_cost'`). Whenever working with a new data set, it can be useful to calculate summary statistics to develop a feeling for the volume and character of the data. This makes it easier to spot trends and significant features during further stages of analysis.\n",
    "\n",
    "Calculate the sum, mean, standard deviation, and quartile statistics for each of these quantities. Format your results for each quantity as a list: `[sum, mean, standard deviation, 1st quartile, median, 3rd quartile]`. We'll create a `tuple` with these lists for each quantity as a final result."
   ]
  },
  {
   "cell_type": "code",
   "execution_count": 9,
   "metadata": {},
   "outputs": [
    {
     "data": {
      "text/plain": [
       "191363.0"
      ]
     },
     "execution_count": 9,
     "metadata": {},
     "output_type": "execute_result"
    }
   ],
   "source": [
    "len(scripts) / 2"
   ]
  },
  {
   "cell_type": "code",
   "execution_count": 10,
   "metadata": {},
   "outputs": [],
   "source": [
    "\n",
    "def describe(key):\n",
    "    key_list = sorted([script[key] for script in scripts])\n",
    "    l = len(key_list)\n",
    "    total = sum(key_list)\n",
    "    avg = total / l\n",
    "    s = (sum([(k - avg)**2 for k in key_list]) / l)**0.5\n",
    "    med = (key_list[l // 2 - 1] + key_list[l // 2]) / 2\n",
    "    q25 = key_list[l // 4]\n",
    "    q75 = key_list[l // 4 + l // 2]\n",
    "\n",
    "    return (total, avg, s, q25, med, q75)"
   ]
  },
  {
   "cell_type": "code",
   "execution_count": 11,
   "metadata": {},
   "outputs": [
    {
     "name": "stdout",
     "output_type": "stream",
     "text": [
      "[('items', (4410054, 11.522744731217633, 33.11216633979208, 1, 3.0, 8)), ('quantity', (316356836, 826.5883059943667, 3872.1810146090156, 30, 120.0, 466)), ('nic', (29048309.790000085, 75.89844899484248, 197.57282662775233, 7.7, 22.62, 65.94)), ('act_cost', (27053937.60000044, 70.68748295125087, 183.267318953028, 7.25, 21.24, 61.53))]\n"
     ]
    }
   ],
   "source": [
    "summary = [('items', describe('items')),\n",
    "           ('quantity', describe('quantity')),\n",
    "           ('nic', describe('nic')),\n",
    "           ('act_cost', describe('act_cost'))]\n",
    "print(summary)"
   ]
  },
  {
   "cell_type": "code",
   "execution_count": 12,
   "metadata": {},
   "outputs": [
    {
     "name": "stdout",
     "output_type": "stream",
     "text": [
      "==================\n",
      "Your score:  1.0\n",
      "==================\n"
     ]
    }
   ],
   "source": [
    "grader.score.pw__summary_statistics(summary)"
   ]
  },
  {
   "cell_type": "markdown",
   "metadata": {},
   "source": [
    "## Question 2: most_common_item\n",
    "\n",
    "Often we are not interested only in how the data is distributed in our entire data set, but within particular groups -- for example, how many items of each drug (i.e. `'bnf_name'`) were prescribed? Calculate the total items prescribed for each `'bnf_name'`. What is the most commonly prescribed `'bnf_name'` in our data?\n",
    "\n",
    "To calculate this, we first need to split our data set into groups corresponding with the different values of `'bnf_name'`. Then we can sum the number of items dispensed within in each group. Finally we can find the largest sum.\n",
    "\n",
    "We'll use `'bnf_name'` to construct our groups. You should have *5619* unique values for `'bnf_name'`."
   ]
  },
  {
   "cell_type": "code",
   "execution_count": 13,
   "metadata": {},
   "outputs": [],
   "source": [
    "bnf_names = set([script['bnf_name'] for script in scripts])\n",
    "assert(len(bnf_names) == 5619)"
   ]
  },
  {
   "cell_type": "markdown",
   "metadata": {},
   "source": [
    "We want to construct \"groups\" identified by `'bnf_name'`, where each group is a collection of prescriptions (i.e. dictionaries from `scripts`). We'll construct a dictionary called `groups`, using `bnf_names` as the keys. We'll represent a group with a `list`, since we can easily append new members to the group. To split our `scripts` into groups by `'bnf_name'`, we should iterate over `scripts`, appending prescription dictionaries to each group as we encounter them."
   ]
  },
  {
   "cell_type": "code",
   "execution_count": 14,
   "metadata": {},
   "outputs": [],
   "source": [
    "groups = {name: [] for name in bnf_names}\n",
    "for script in scripts:\n",
    "    groups[script['bnf_name']].append(script)"
   ]
  },
  {
   "cell_type": "markdown",
   "metadata": {},
   "source": [
    "Now that we've constructed our groups we should sum up `'items'` in each group and find the `'bnf_name'` with the largest sum. The result, `max_item`, should have the form `[(bnf_name, item total)]`, e.g. `[('Foobar', 2000)]`."
   ]
  },
  {
   "cell_type": "code",
   "execution_count": 15,
   "metadata": {},
   "outputs": [
    {
     "name": "stdout",
     "output_type": "stream",
     "text": [
      "[('Omeprazole_Cap E/C 20mg', 113826)]\n"
     ]
    }
   ],
   "source": [
    "item_sum = []\n",
    "for name in bnf_names:\n",
    "    item_sum.append((name, sum([script['items'] for script in groups[name]])))\n",
    "item_sum.sort(key=lambda tup: tup[1], reverse=True)\n",
    "max_item = [item_sum[0]]\n",
    "print(max_item)"
   ]
  },
  {
   "cell_type": "markdown",
   "metadata": {},
   "source": [
    "**TIP:** If you are getting an error from the grader below, please make sure your answer conforms to the correct format of `[(bnf_name, item total)]`."
   ]
  },
  {
   "cell_type": "code",
   "execution_count": 16,
   "metadata": {},
   "outputs": [
    {
     "name": "stdout",
     "output_type": "stream",
     "text": [
      "==================\n",
      "Your score:  1.0\n",
      "==================\n"
     ]
    }
   ],
   "source": [
    "grader.score.pw__most_common_item(max_item)"
   ]
  },
  {
   "cell_type": "markdown",
   "metadata": {},
   "source": [
    "**Challenge:** Write a function that constructs groups as we did above. The function should accept a list of dictionaries (e.g. `scripts` or `practices`) and a tuple of fields to `groupby` (e.g. `('bnf_name')` or `('bnf_name', 'post_code')`) and returns a dictionary of groups. The following questions will require you to aggregate data in groups, so this could be a useful function for the rest of the miniproject."
   ]
  },
  {
   "cell_type": "code",
   "execution_count": 17,
   "metadata": {},
   "outputs": [],
   "source": [
    "def group_by_field(data, field):\n",
    "    field_values = set([record[field] for record in data])\n",
    "    groups = {value: [] for value in field_values}\n",
    "    for record in data:\n",
    "        groups[record[field]].append(record)\n",
    "    return groups"
   ]
  },
  {
   "cell_type": "code",
   "execution_count": 18,
   "metadata": {},
   "outputs": [
    {
     "name": "stdout",
     "output_type": "stream",
     "text": [
      "Omeprazole_Cap E/C 20mg\n"
     ]
    }
   ],
   "source": [
    "groups = group_by_field(scripts, 'bnf_name')\n",
    "test_max_item = max(groups, key=lambda group: sum([script['items'] for script in groups[group]]))\n",
    "print(test_max_item)\n",
    "# assert test_max_item == max_item"
   ]
  },
  {
   "cell_type": "markdown",
   "metadata": {},
   "source": [
    "## Question 3: postal_totals\n",
    "\n",
    "Our data set is broken up among different files. This is typical for tabular data to reduce redundancy. Each table typically contains data about a particular type of event, processes, or physical object. Data on prescriptions and medical practices are in separate files in our case. If we want to find the total items prescribed in each postal code, we will have to _join_ our prescription data (`scripts`) to our clinic data (`practices`).\n",
    "\n",
    "Find the total items prescribed in each postal code, representing the results as a list of tuples `(post code, total items prescribed)`. Sort your results ascending alphabetically by post code and take only results from the first 100 post codes. Only include post codes if there is at least one prescription from a practice in that post code.\n",
    "\n",
    "**NOTE:** Some practices have multiple postal codes associated with them. Use the alphabetically first postal code."
   ]
  },
  {
   "cell_type": "markdown",
   "metadata": {},
   "source": [
    "We can join `scripts` and `practices` based on the fact that `'practice'` in `scripts` matches `'code'` in `practices`. However, we must first deal with the repeated values of `'code'` in `practices`. We want the alphabetically first postal codes."
   ]
  },
  {
   "cell_type": "code",
   "execution_count": 19,
   "metadata": {},
   "outputs": [],
   "source": [
    "practices.sort(key=lambda dict: dict['post_code'])\n",
    "\n",
    "practice_postal = {}\n",
    "for practice in practices:\n",
    "    if practice['code'] not in practice_postal:\n",
    "        practice_postal[practice['code']] = practice['post_code']"
   ]
  },
  {
   "cell_type": "markdown",
   "metadata": {},
   "source": [
    "**Challenge:** This is an aggregation of the practice data grouped by practice codes. Write an alternative implementation of the above cell using the `group_by_field` function you defined previously."
   ]
  },
  {
   "cell_type": "code",
   "execution_count": 20,
   "metadata": {},
   "outputs": [],
   "source": [
    "assert practice_postal['K82019'] == 'HP21 8TR'"
   ]
  },
  {
   "cell_type": "markdown",
   "metadata": {},
   "source": [
    "Now we can join `practice_postal` to `scripts`."
   ]
  },
  {
   "cell_type": "code",
   "execution_count": 21,
   "metadata": {},
   "outputs": [
    {
     "name": "stdout",
     "output_type": "stream",
     "text": [
      "[{'bnf_code': '0101010G0AAABAB', 'items': 2, 'practice': 'N81013', 'bnf_name': 'Co-Magaldrox_Susp 195mg/220mg/5ml S/F', 'nic': 5.98, 'act_cost': 5.56, 'quantity': 1000, 'post_code': 'SK11 6JL'}, {'bnf_code': '0101021B0AAAHAH', 'items': 1, 'practice': 'N81013', 'bnf_name': 'Alginate_Raft-Forming Oral Susp S/F', 'nic': 1.95, 'act_cost': 1.82, 'quantity': 500, 'post_code': 'SK11 6JL'}, {'bnf_code': '0101021B0AAALAL', 'items': 12, 'practice': 'N81013', 'bnf_name': 'Sod Algin/Pot Bicarb_Susp S/F', 'nic': 64.51, 'act_cost': 59.95, 'quantity': 6300, 'post_code': 'SK11 6JL'}, {'bnf_code': '0101021B0AAAPAP', 'items': 3, 'practice': 'N81013', 'bnf_name': 'Sod Alginate/Pot Bicarb_Tab Chble 500mg', 'nic': 9.21, 'act_cost': 8.55, 'quantity': 180, 'post_code': 'SK11 6JL'}, {'bnf_code': '0101021B0BEADAJ', 'items': 6, 'practice': 'N81013', 'bnf_name': 'Gaviscon Infant_Sach 2g (Dual Pack) S/F', 'nic': 28.92, 'act_cost': 26.84, 'quantity': 90, 'post_code': 'SK11 6JL'}, {'bnf_code': '0101021B0BEAIAL', 'items': 15, 'practice': 'N81013', 'bnf_name': 'Gaviscon Advance_Liq (Aniseed) (Reckitt)', 'nic': 82.62, 'act_cost': 76.67, 'quantity': 7800, 'post_code': 'SK11 6JL'}, {'bnf_code': '0101021B0BEAQAP', 'items': 5, 'practice': 'N81013', 'bnf_name': 'Gaviscon Advance_Tab Chble Mint(Reckitt)', 'nic': 13.47, 'act_cost': 12.93, 'quantity': 116, 'post_code': 'SK11 6JL'}, {'bnf_code': '0101021B0BEBEAL', 'items': 10, 'practice': 'N81013', 'bnf_name': 'Gaviscon Advance_Liq (Peppermint) S/F', 'nic': 64.0, 'act_cost': 59.45, 'quantity': 6250, 'post_code': 'SK11 6JL'}, {'bnf_code': '0101021B0BIABAH', 'items': 2, 'practice': 'N81013', 'bnf_name': 'Peptac_Liq (Peppermint) S/F', 'nic': 3.9, 'act_cost': 3.64, 'quantity': 1000, 'post_code': 'SK11 6JL'}, {'bnf_code': '0102000A0AAAAAA', 'items': 1, 'practice': 'N81013', 'bnf_name': 'Alverine Cit_Cap 60mg', 'nic': 19.48, 'act_cost': 18.05, 'quantity': 100, 'post_code': 'SK11 6JL'}]\n"
     ]
    }
   ],
   "source": [
    "joined = scripts[:]\n",
    "for script in joined:\n",
    "    script['post_code'] = practice_postal[script['practice']]\n",
    "print(joined[:10])"
   ]
  },
  {
   "cell_type": "markdown",
   "metadata": {},
   "source": [
    "Finally we'll group the prescription dictionaries in `joined` by `'post_code'` and sum up the items prescribed in each group, as we did in the previous question."
   ]
  },
  {
   "cell_type": "code",
   "execution_count": 22,
   "metadata": {},
   "outputs": [],
   "source": [
    "groups = group_by_field(joined, 'post_code')\n",
    "\n",
    "items_by_post = [(post, sum([script['items'] for script in groups[post]])) for post in groups.keys()]"
   ]
  },
  {
   "cell_type": "code",
   "execution_count": 23,
   "metadata": {},
   "outputs": [
    {
     "name": "stdout",
     "output_type": "stream",
     "text": [
      "==================\n",
      "Your score:  1.0\n",
      "==================\n"
     ]
    }
   ],
   "source": [
    "postal_totals = sorted([i for i in items_by_post if i[1] > 0])[:100]\n",
    "\n",
    "grader.score.pw__postal_totals(postal_totals)"
   ]
  },
  {
   "cell_type": "markdown",
   "metadata": {},
   "source": [
    "## Question 4: items_by_region\n",
    "\n",
    "Now we'll combine the techniques we've developed to answer a more complex question. Find the most commonly dispensed item in each postal code, representing the results as a list of tuples (`post_code`, `bnf_name`, amount dispensed as proportion of total). Sort your results ascending alphabetically by post code and take only results from the first 100 post codes.\n",
    "\n",
    "**NOTE:** We'll continue to use the `joined` variable we created before, where we've chosen the alphabetically first postal code for each practice. Additionally, some postal codes will have multiple `'bnf_name'` with the same number of items prescribed for the maximum. In this case, we'll take the alphabetically first `'bnf_name'`."
   ]
  },
  {
   "cell_type": "markdown",
   "metadata": {},
   "source": [
    "Now we need to calculate the total items of each `'bnf_name'` prescribed in each `'post_code'`. Use the techniques we developed in the previous questions to calculate these totals. You should have 141196 `('post_code', 'bnf_name')` groups."
   ]
  },
  {
   "cell_type": "code",
   "execution_count": 31,
   "metadata": {},
   "outputs": [
    {
     "name": "stdout",
     "output_type": "stream",
     "text": [
      "[('Systane Hydroxypropyl Guar Eye Dps 10ml', 5), ('Microgynon 30_Tab', 50), ('Typherix_Vac 0.5ml Pfs', 18), ('Clotrimazole_Pess 500mg/Crm 2%', 10), ('Benzoyl Per_Gel 5%', 11), ('Ranolazine_Tab 750mg M/R', 2), ('Metformin HCl_Tab 1g M/R', 43), ('Balneum Plus_Bath Oil', 4), ('E45_Crm', 39), ('Convatec_Orahesive Pdr', 3), ('Pioglitazone HCl_Tab 30mg', 10), ('Paracet_Tab 500mg', 616), ('Lyrica_Cap 150mg', 34), ('Cetraben Crm 500g', 18), ('Half Securon SR_Tab 120mg', 2), ('Ins Humalog Mix 25_KwikPen 100u/ml 3mlPf', 3), ('Adizem-SR_Cap 90mg', 7), ('Apixaban_Tab 2.5mg', 16), ('Paracet_Tab Solb 500mg', 19), ('Salbutamol_Inh Soln 2.5mg/2.5ml Ud', 8), ('Betameth Val/Fusidic Acid_Crm 0.1%/2%', 7), ('3m Health Care_Cavilon Durable Barrier C', 4), ('Sulfasalazine_Tab 500mg', 12), ('Lyrica_Cap 100mg', 13), ('Transtec_T/Derm Patch 35mcg/hr (20mg)', 3), ('Bumetanide_Tab 1mg', 25), ('Amoxicillin_Cap 500mg', 237), ('Rigevidon_Tab', 29), ('Eumovate_Crm 0.05%', 4), ('Fostair_Inh 200mcg/6mcg (120D) CFF', 10), ('Fentanyl_Transdermal Patch 100mcg/hr', 13), ('Prucalopride_Tab 2mg', 3), ('Benzydamine HCl_Spy 0.15% 30ml S/F', 27), ('Trihexyphenidyl HCl_Tab 5mg', 2), ('Lisinopril_Tab 2.5mg', 51), ('Tramadol HCl_Tab 50mg M/R', 7), ('Elvanse_Cap 40mg', 3), ('Ibuprofen_Tab 400mg', 140), ('Lacidipine_Tab 4mg', 8), ('Naftidrofuryl Oxal_Cap 100mg', 2), ('Lansoprazole_Cap 15mg (E/C Gran)', 50), ('Prednisolone_Tab 5mg', 218), ('Canagliflozin_Tab 100mg', 4), ('Celluvisc_Eye Dps 1% 0.4ml Ud', 2), ('Creon 25000_Cap E/C', 11), ('Oilatum_Emollient', 5), ('CareSens Lancets 0.31mm/30 Gauge', 17), ('Qvar 100_Inha 100mcg (200 D)', 6), ('Galantamine_Cap 8mg M/R', 2), ('Gliclazide_Tab 80mg', 110), ('Oxycodone HCl_Oral Soln 10mg/1ml S/F', 2), ('Prednisolone_Tab 1mg', 9), ('Seebri_Breezhaler Inh Cap 55mcg + Dev', 12), ('Escitalopram_Tab 20mg', 6), ('Ibuprofen_Gel 10%', 76), ('Madopar_Cap 100mg/25mg', 8), ('Chlorphenamine Mal_Tab 4mg', 20), ('Clinitas Sod Hyaluronate Eye Dps 0.5ml U', 2), ('Seretide 50_Evohaler 50mcg/25mcg (120 D)', 4), ('Oxycodone HCl_Oral Soln 5mg/5ml S/F', 4), ('Timolol_Eye Dps 0.5%', 3), ('Coloplast SpeediCath Male Size 10-14 (30', 4), ('Colomycin_Inj 1 000 000u Vl (Dry)', 2), ('Pravastatin Sod_Tab 20mg', 20), ('Tegretol Prolonged Release_Tab 200mg M/R', 14), ('FastClix Lancets 0.3mm/30 Gauge', 4), ('Adalat Ret_Tab 20mg', 7), ('Lyrica_Cap 200mg', 8), ('Trimethoprim_Tab 200mg', 67), ('Levothyrox Sod_Tab 100mcg', 278), ('Adcal-D3_Dissolve Tab Eff 1.5g/400u(Lem)', 4), ('Hypromellose_Eye Dps 0.3%', 40), ('St Georges Olive Oil Ear Dps Ear Wax Sof', 16), ('Chlorhex Glucon_Mthwsh 0.2%', 9), ('Sildenafil_Tab 25mg', 14), ('Oilatum Plus_Bath Additive', 9), ('Paracet/Metoclopramide HCl_Tab 500mg/5mg', 3), ('Qvar 50 E-Breathe_Inha 50mcg (200 D)', 6), ('Ivermectin_Crm 10mg/g', 2), ('Optive 0.5% Carmellose Eye Dps 10ml', 10), ('Daktacort_Crm 2%/1%', 2), ('Gaviscon Double Action_Tab Chble', 7), ('Aerochamber Plus + Adult/Child/Infant Ma', 44), ('Avamys_Nsl Spy 27.5mcg (120D)', 23), ('Linagliptin_Tab 5mg', 29), ('Fostair NEXThaler_Inh 100mcg/6mcg (120D)', 22), ('Co-Careldopa_Tab 12.5mg/50mg', 6), ('Tegaderm Film 12cm x 12cm VP Adh Film Dr', 5), ('Coloplast SpeediCath Compact Male OneSiz', 4), ('Liq Paraf/Wte Soft Paraf_Oint 5%/95%', 6), ('Beconase_Aq Nsl Spy 50mcg (200 D) 22g', 8), ('Fusidic Acid_Viscous Eye Dps 1%', 9), ('Duloxetine HCl_Cap G/R 60mg', 37), ('Methylphenidate HCl_Tab 5mg', 6), ('Senna_Tab 15mg', 5), ('Sunsense_Daily Face Crm Spf 50+', 2), ('Hyoscine Butylbrom_Tab 10mg', 62), ('PaediaSure Plus Fibre_Liq (3 Flav)', 6), ('Coloplast_Brava Elas Tape', 3), ('Lisinopril/Hydchloroth_Tab 10mg/12.5mg', 6), ('Colecal & Calc_Tab Chble 400u/1.5g', 40), ('Aciclovir_Tab 800mg', 7), ('Bendroflumethiazide_Tab 2.5mg', 294), ('Bezafibrate_Tab 200mg', 3), ('Oxybutynin HCl_Tab 5mg', 8), ('Terbinafine HCl_Tab 250mg', 11), ('Simvastatin_Tab 40mg', 435), ('Betameth Val_Crm 0.025% (1 in 4)', 3), ('Temazepam_Tab 10mg', 25), ('Cinnarizine_Tab 15mg', 6), ('Verapamil HCl_Tab 80mg', 2), ('Orlistat_Cap 120mg', 15), ('Indacaterol Mal_Pdr Inh Cap 150mcg + Dev', 6), ('Sumatriptan_Tab 100mg', 5), ('Mst Continus_Tab 5mg', 6), ('Cialis_Tab 20mg', 8), ('Ins Glargine_Inj 100u/ml 3ml Cart', 3), ('Ins NovoMix 30_Penfill 100u/ml 3ml Cart', 6), ('Co-Beneldopa_Cap 25mg/100mg', 4), ('Dansac_Nova Colo Bag Opqe S/H 20-60mm', 4), ('Metformin HCl_Tab 850mg', 29), ('Movicol_Pdr Sach 13.8g (Lem & Lim)', 29), ('Olanzapine_Orodisper Tab 20mg', 2), ('Ensure Plus_Milkshake Style Liq(10 Flav)', 20), ('Tranexamic Acid_Tab 500mg', 13), ('Rosuvastatin Calc_Tab 40mg', 6), ('Valsartan_Cap 160mg', 4), ('Trospium Chlor_Cap 60mg M/R', 11), ('Carbimazole_Tab 20mg', 4), ('Trazodone HCl_Cap 100mg', 9), ('Enalapril Mal_Tab 20mg', 20), ('Colecal_Cap 20 000u', 15), ('Amisulpride_Tab 50mg', 2), ('Allopurinol_Tab 300mg', 55), ('Fresubin Thickened Stage 2_Cust (2 Flav)', 5), ('Juvela_G/F Fibre Loaf Brown (Cut)', 2), ('Betahistine HCl_Tab 16mg', 47), ('Desogestrel_Tab 75mcg', 51), ('Xalatan_Eye Dps 50mcg/ml', 6), ('Lamotrigine_Tab 25mg', 15), ('Pholcodine_Linct 5mg/5ml', 2), ('Aspirin_Tab 75mg', 92), ('Clenil Modulite_Inha 50mcg (200D)', 32), ('Moxonidine_Tab 300mcg', 7), ('Ramipril_Tab 10mg', 10), ('Medroxyprogest Acet_Inj 150mg/ml 1ml Pfs', 20), ('Vit B Co Strong_Tab', 18), ('Zolpidem Tart_Tab 5mg', 29), ('Aciclovir_Tab 200mg', 7), ('Gppe Emollient_Hydromol', 3), ('Enalapril Mal_Tab 10mg', 25), ('Microgynon 30 ED_Tab', 3), ('Aspirin_Tab E/C 300mg', 3), ('Fusidic Acid_Crm 2%', 37), ('Ins NovoRapid_Inj 100u/ml 10ml Vl', 4), ('Lamotrigine_Tab 200mg', 7), ('Beclomet Diprop_Nsl Spy 50mcg (200 D)', 120), ('Senna_Oral Soln 7.5mg/5ml S/F', 6), ('Esomeprazole_Tab E/C 20mg', 39), ('Olanzapine_Tab 7.5mg', 4), ('Easyhaler_Salbutamol Sulf 200mcg (200D)', 8), ('Clenil Modulite_Inha 200mcg (200D)', 35), ('Phenoxymethylpenicillin Pot_Tab 250mg', 59), ('DuoResp Spiromax_Inh 320mcg/9mcg (60 D)', 5), ('Aq_Crm', 8), ('Relvar Ellipta_Inha 92mcg/22mcg (30 D)', 27), ('Clotrimazole_Crm 1%', 22), ('Oramorph_Oral Soln 10mg/5ml', 51), ('Colecal & Calc_Tab 200u/750mg', 10), ('Fluticasone Prop_Susp Nsl Dps 400mcg Ud', 3), ('Febuxostat_Tab 80mg', 3), ('Aspirin Disper_Tab 300mg', 4), ('Neoral_Cap 50mg', 3), ('Macrogol_Co Oral Pdr Sach H/Strgh6.9gS/F', 2), ('Mebeverine HCl_Tab 135mg', 49), ('Bisoprolol Fumar_Tab 5mg', 124), ('Tegretol_Liq 100mg/5ml S/F', 2), ('Disulfiram_Tab 200mg', 5), ('Alfacalcidol_Cap 500ng', 3), ('Betahistine HCl_Tab 8mg', 31), ('Diazepam_Tab 5mg', 84), ('Latanoprost_Eye Dps 50mcg/ml 0.2mlUd P/F', 3), ('Ibuprofen_Gel 5%', 72), ('Felodipine_Tab 2.5mg M/R', 2), ('Epilim 200_Tab E/C 200mg', 9), ('Fluticasone/Vilanterol_Inha 92/22mcg 30D', 9), ('Mylife Clickfine Needles Pen Inj Snap On', 3), ('Nifedipine_Cap 20mg M/R', 2), ('Oilatum_Shower Gel Fragrance Free', 3), ('Qvar 50_Inha 50mcg (200 D)', 2), ('Losartan Pot_Tab 50mg', 85), ('Alfacalcidol_Cap 1mcg', 4), ('Citalopram Hydrob_Tab 10mg', 155), ('Lamictal_Tab 200mg', 5), ('Cyclizine HCl_Tab 50mg', 37), ('Metformin HCl_Tab 750mg M/R', 9), ('Adizem-XL_Cap 180mg', 7), ('Fentanyl_Transdermal Patch 75mcg/hr', 9), ('Candesartan Cilexetil_Tab 4mg', 50), ('Clarithromycin_Tab 250mg', 2), ('Sulpiride_Tab 200mg', 11), ('Incruse Ellipta_Inh 55mcg (30D)', 18), ('Ferr Fumar_Tab 210mg', 68), ('Metoclopramide HCl_Tab 10mg', 33), ('Oilatum_Bath For', 16), ('Ivabradine_Tab 7.5mg', 9), ('Atenolol_Tab 25mg', 94), ('Pregabalin_Cap 200mg', 4), ('Diltiazem HCl_Tab 60mg M/R', 5), ('Pravastatin Sod_Tab 10mg', 10), ('Ensure TwoCal_Liq (4 Flav)', 2), ('Co-Codamol_Tab 8mg/500mg', 71), ('Metformin HCl_Tab 500mg', 351), ('Rivastigmine_Cap 1.5mg', 4), ('Cetraben Crm 50g', 2), ('Yasmin_Tab', 9), ('Dermovate_Oint 0.05%', 4), ('Ins Lantus SoloStar_100u/ml 3ml Pf Pen', 64), ('Resource_ThickenUp Pdr', 8), ('Ondansetron HCl_Tab 4mg', 4), ('NiQuitin_Patch 21mg/24hrs (Step 1)', 2), ('Spironol_Tab 100mg', 11), ('Rosuvastatin Calc_Tab 20mg', 11), ('Coloplast_G-Strap Adult', 6), ('Isosorbide Mononit_Tab 20mg', 2), ('Adalat Ret_Tab 10mg', 11), ('Fluticasone/Salmeterol_Inh 250/50mcg 60D', 9), ('Bisacodyl_Tab E/C 5mg', 12), ('Amoxicillin_Oral Susp 250mg/5ml', 6), ('Tamsulosin HCl_Tab 400mcg M/R', 4), ('Oxycodone HCl/Naloxone HCl_Tab 10/5mgM/R', 3), ('Bisoprolol Fumar_Tab 1.25mg', 150), ('Tamsulosin/Dutasteride HCl_Cap 0.4/0.5mg', 5), ('Biotene Oralbalance Gel', 2), ('Risperidone_Tab 2mg', 2), ('Ispag Husk_Gran Eff Sach 3.5g G/F S/F', 18), ('Clomipramine HCl_Cap 50mg', 2), ('Anusol_Crm', 8), ('NiQuitin Clr_Patch 21mg/24hrs(Step 1)', 3), ('Femodene_Tab', 4), ('Gaviscon Advance_Tab Chble Mint(Reckitt)', 3), ('Losec_Cap E/C 20mg', 8), ('CliniMed_Appeel No Sting Medical Adh Rem', 4), ('Cefalexin_Cap 500mg', 8), ('Lorazepam_Tab 1mg', 19), ('Ranolazine_Tab 375mg M/R', 4), ('Betameth Diprop/Clotrimazole_Crm0.064/1%', 2), ('Darifenacin Hydrob_Tab 15mg M/R', 15), ('Hylo-Forte Sod Hyaluronate Eye Dps 0.2%', 5), ('Mirabegron_Tab 25mg M/R', 4), ('Ventolin_Accuhaler 200mcg (60 D)', 19), ('Duloxetine HCl_Cap G/R 30mg', 26), ('Trazodone HCl_Cap 50mg', 16), ('Betnovate_Crm 0.1%', 8), ('Mucodyne_Cap 375mg', 3), ('Hydroxyzine HCl_Tab 10mg', 3), ('Co-Trimoxazole_Tab 160mg/800mg', 5), ('Ins NovoRapid_Penfill 100u/ml 3ml Cart', 9), ('Cefalexin_Cap 250mg', 11), ('Capsaicin_Crm 0.075%', 2), ('Tramadol HCl_Tab 100mg M/R', 5), ('Adalat LA 30_Tab 30mg', 14), ('Pentasa SR_Tab 500mg', 3), ('Typhim VI_Vac 0.5ml Pfs', 5), ('Ins Glargine_Inj 100u/ml 3ml Pf Pen', 2), ('Diclofenac Sod_Gel 2.32%', 36), ('Propranolol HCl_Tab 10mg', 52), ('Terbut Sulf_B/A Inha 500mcg (100 D)', 24), ('Isosorbide Mononit_Tab 60mg M/R', 54), ('Aripiprazole_Tab 5mg', 5), ('Contour Next (Reagent)_Strips', 13), ('Dansac_NovaLife 1 Open + View Midi Opqe', 3), ('Venlafaxine_Cap 37.5mg M/R', 4), ('Lansoprazole_Orodisper Tab 15mg', 4), ('CliniFast 10.75cm x 5m (Yellow) Stkntte', 2), ('Hydroxychlor Sulf_Tab 200mg', 27), ('Hydromol Sod Pidolate Crm 2.5% 500g (App', 7), ('Equasym XL_Cap 30mg', 4), ('Amitriptyline HCl_Tab 50mg', 81), ('Prostap 3_DCS Inj 11.25mg Dil + Pfs', 9), ('Bimatoprost/Timolol_Eye Dps 300mcg/5mg', 3), ('Lyrica_Cap 300mg', 37), ('Trazodone HCl_Tab 150mg', 4), ('Sod Valpr_Tab 300mg M/R', 2), ('Dansac_Nova Mini Cap Opqe C/Fit 20-50mm', 2), ('Mycophenolate Mofetil_Tab 500mg', 5), ('Clobetasol Prop_Crm 0.05%', 8), ('Ins Apidra SoloStar_100u/ml 3ml PF Pen', 4), ('Alfacalcidol_Cap 250ng', 11), ('Seretide 100_Accuhaler 100mcg/50mcg(60D)', 11), ('Pyridostig Brom_Tab 60mg', 4), ('Paroxetine HCl_Tab 30mg', 8), ('Losartan Pot_Tab 25mg', 35), ('Montelukast_Gran Sach 4mg S/F', 3), ('Paracet_Oral Susp Paed 120mg/5ml', 11), ('Tramadol HCl_Cap 50mg M/R', 2), ('Alfuzosin HCl_Tab 10mg M/R', 14), ('Co-Codamol_Cap 8mg/500mg', 11), ('Prednisolone_Tab E/C 2.5mg', 7), ('Fentanyl_Transdermal Patch 12mcg/hr', 18), ('Flixonase_Aq Nasule Dps 400mcg Ud', 3), ('Lansoprazole_Orodisper Tab 30mg', 17), ('Durogesic DTrans_T/Derm Patch 25mcg', 2), ('Predsol_Ear/Eye Dps 0.5%', 2), ('Midazolam HCl_Inj 5mg/ml 2ml Amp', 3), ('Combodart_Cap 0.5mg/0.4mg', 5), ('Sharpsguard 1L', 6), ('Bisoprolol Fumar_Tab 3.75mg', 23), ('Dansac_Non Sting Adh Remover A/Spy 50ml', 11), ('Rotigotine_Transdermal Patch 8mg/24hrs', 3), ('PVC Ring Pess 50-80mm 1.25cm Thick', 4), ('Symbicort_Inh Pressurised 200/6mcg(120D)', 5), ('Permethrin_Crm 5%', 4), ('Bard_Uriplan One MT Drain Bag 2L (30 Dev', 2), ('Nortriptyline_Tab 10mg', 12), ('Simvastatin_Tab 80mg', 22), ('Losartan Pot/Hydchloroth_Tab 100mg/25mg', 4), ('Alphosyl_Shampoo 2 In 1', 6), ('Estraderm MX 50_Patch', 4), ('Sudocrem_Antis Healing Crm', 17), ('Phyllocontin Continus_Tab 225mg', 2), ('Sod Valpr_Tab E/C 200mg', 3), ('OxyNorm_Oral Soln 5mg/5ml S/F', 2), ('Voltarol Emulgel_Aq Gel 1.16%', 38), ('Zomorph_Cap 100mg', 4), ('Anusol HC_Suppos', 4), ('Topiramate_Tab 25mg', 7), ('Nedocromil Sod_Eye Dps Aq 2%', 2), ('Fluticasone/Salmeterol_Inh 50/25mcg 120D', 10), ('Sotalol HCl_Tab 40mg', 4), ('Hydrocort_Crm 0.5%', 5), ('Coloplast_Simpla Profile Leg Bag 500ml 2', 5), ('Hydromol_Bath & Shower Emollient', 14), ('Amlodipine_Tab 5mg', 442), ('Quetiapine_Tab 200mg', 27), ('Tramadol HCl_Tab 200mg M/R', 7), ('Anoro Ellipta_Inha 55mcg/22mcg (30D)', 21), ('Estradiol_Pess 10mcg', 6), ('Lyrica_Cap 75mg', 40), ('Oilatum_Crm', 6), ('Quinine Bisulf_Tab 300mg', 14), ('Valsartan/Hydchloroth_Tab 160mg/25mg', 3), ('Genius_G/F Bread Wte Sandwich (Cut)', 2), ('Coloplast Folysil X-Tra Male 12-22 10ml', 2), ('Colpermin_Cap E/C 0.2ml M/R', 4), ('Fludrocort Acet_Tab 100mcg', 11), ('Diltiazem HCl_Cap 90mg M/R', 4), ('Esomeprazole_Cap E/C 20mg', 27), ('Allevyn Ag Gentle Border 10cmx10cm Wound', 3), ('Doublebase_Emollient Shower Gel', 10), ('Clarithromycin_Tab 500mg', 47), ('Volumatic Paed + Mask', 6), ('Cetirizine HCl_Oral Soln 1mg/1ml S/F', 11), ('Dihydrocodeine Tart_Tab 40mg', 2), ('Promethazine HCl_Tab 20mg', 3), ('Lotemax_Eye Dps 0.5%', 3), ('Spiriva Respimat_Inha 2.5mcg (60D) + Dev', 12), ('Fenofibrate_Tab 160mg (Micronised)', 9), ('BD Microfine+ Needles Pen Inj Screw On 8', 3), ('Etoricoxib_Tab 90mg', 4), ('Premarin_Tab 1.25mg', 4), ('Thiamine HCl_Tab 50mg', 75), ('Cath-It Insertion/Removal Pack Med/Lge C', 2), ('Naproxen_Tab E/C 250mg', 17), ('Betameth Val_Scalp Applic 0.1%', 9), ('Aveeno_Crm', 22), ('Solifenacin_Tab 10mg', 21), ('Paracet_Oral Susp 500mg/5ml S/F', 4), ('Nicotine_Oromucosal P/Spy (1mg D) S/F', 2), ('Lotriderm_Crm', 2), ('Peptac_Liq (Aniseed) S/F', 7), ('Hux D3_Cap 20 000u', 13), ('Flecainide Acet_Tab 50mg', 17), ('Aveeno_Lot', 4), ('Calcichew D3 Fte_Tab Chble', 36), ('FreeStyle Optium B-Ketone Reagent_Strips', 8), ('Azithromycin_Tab 250mg', 34), ('Aviva (Reagent)_Strips', 27), ('Dipyridamole_Cap 200mg M/R', 8), ('Ibuprofen_Oral Susp 100mg/5ml S/F', 32), ('Simvastatin_Tab 10mg', 38), ('Tiotropium_Pdr For Inh Cap 18mcg + Dev', 21), ('Pro-Cal_Shot Liq (Banana)', 2), ('Enstilar_Foam Aero 50mcg/0.5mg/g', 11), ('Colecal_Tab 20 000u', 11), ('Doxazosin Mesil_Tab 4mg', 63), ('Mirtazapine_Orodisper Tab 45mg', 3), ('Methyldopa_Tab 250mg', 2), ('Movelat_Gel', 14), ('Ibandronic Acid_Tab 150mg', 5), ('Zolmitriptan_Tab 2.5mg', 3), ('Estriol_Crm 0.1% + Applic', 3), ('Gliclazide_Tab 40mg', 30), ('Dermovate_Crm 0.05%', 6), ('Diazepam_Tab 2mg', 138), ('Sod Picosulf_Oral Soln 5mg/5ml S/F', 23), ('Prednisolone_Tab 2.5mg', 5), ('Erythromycin_Ethylsuc Susp 250mg/5ml S/F', 4), ('Convatec_C/Sive Natura Urost Pch Stnd Ta', 2), ('Betameth_Foam Aero 0.1% 100g', 2), ('DuoResp Spiromax_Inh 160mcg/4.5mcg(120D)', 5), ('Nicorette_Cools Loz 2mg', 4), ('Fluticasone Fur_Nsl Spy 27.5mcg (120D)', 39), ('Gaviscon Advance_Liq (Peppermint) S/F', 36), ('Diclofenac Sod_Tab E/C 50mg', 14), ('Carbimazole_Tab 5mg', 13), ('Chloramphen_Eye Oint 1%', 10), ('Co-Amilofruse_Tab 5mg/40mg', 5), ('Anusol_Suppos', 5), ('Fexofenadine HCl_Tab 180mg', 16), ('Clobazam_Tab 10mg', 8), ('T & R Sod Bicarb Ear Dps 5% Ear Wax Soft', 6), ('Warfarin Sod_Tab 1mg', 104), ('OneTouch Vita (Reagent)_Strips', 2), ('Bricanyl_Turbohaler 500mcg (100 D)', 4), ('Lisinopril_Tab 20mg', 145), ('Atorvastatin_Tab 20mg', 530), ('Tolterodine_Tab 1mg', 13), ('Trimethoprim_Tab 100mg', 16), ('Emollin Emollient Aero 240ml', 5), ('Carvedilol_Tab 6.25mg', 7), ('Calcipotriol/Betameth_Oint 0.005%/0.05%', 7), ('Methocarbamol_Tab 750mg', 3), ('Metrogel_Gel 0.75%', 3), ('Amiodarone HCl_Tab 200mg', 15), ('Doublebase_Dayleve gel', 13), ('Budesonide/Formoterol Inh B/A 400/12(60D', 17), ('Ranitidine HCl_Tab 300mg', 23), ('Oxycodone HCl_Cap 5mg', 3), ('Metformin HCl_Tab 500mg M/R', 61), ('Quetiapine_Tab 300mg', 15), ('Qvar 100 E-Breathe_Inha 100mcg (200 D)', 13), ('Finasteride_Tab 5mg', 44), ('ViATIM_Vac D/Chamber 160u/25mcg 1ml Pfs', 7), ('Norethist_Tab 5mg', 22), ('Metronidazole_Tab 400mg', 24), ('Calcichew_Tab Chble 1.25g (500mg)', 5), ('Emla_Crm 5%', 13), ('Erythromycin/Zn Acet_Lot 40mg/Ml/12mg/ml', 2), ('Levetiracetam_Tab 750mg', 4), ('Mometasone Fur_Oint 0.1%', 3), ('Sitagliptin_Tab 50mg', 7), ('Creon 10000_Cap E/C', 5), ('Candesartan Cilexetil_Tab 32mg', 13), ('Duac_Once Daily Gel (3% and 1%)', 2), ('Salbutamol_Inh Soln 5mg/2.5ml Ud', 10), ('Dermol 500_Lot', 45), ('Clotrimazole_Pess 500mg', 4), ('Pregabalin_Cap 150mg', 31), ('Cimetidine_Tab 400mg', 3), ('Metformin HCl_Oral Soln 500mg/5ml S/F', 3), ('Sildenafil_Tab 100mg', 53), ('Pro-Cal_Shot Liq (Sbery)', 6), ('Mometasone Fur_Aq N/Spy 50mcg (140 D)', 78), ('Olanzapine_Tab 20mg', 10), ('Levothyrox Sod_Tab 50mcg', 299), ('Clement Clarke Stnd Range Peak Flow Mete', 4), ('Methotrexate_Tab 2.5mg', 45), ('Fluclox Sod_Oral Soln 250mg/5ml', 3), ('Cetirizine HCl_Cap 10mg', 2), ('Priadel_Tab 400mg', 4), ('GlucoGel_Gel 40% (Original)', 4), ('Cetraben Crm 150g', 4), ('Tiopex_Gel Eye Dps 1mg/g 0.4g Ud', 2), ('Isosorbide Mononit_Cap 25mg M/R', 3), ('Influenza_Vac Inact 0.5ml Pfs', 136), ('Calcipotriol/Betameth_Foam 50mcg/0.5mg/g', 6), ('Aciclovir_Tab Disper 200mg', 7), ('Ventolin_Evohaler 100mcg (200 D)', 30), ('Betnovate_Scalp Applic 0.1%', 6), ('Sulfasalazine_Tab E/C 500mg', 18), ('Performa (Reagent)_Strips', 4), ('Sod Algin/Pot Bicarb_Susp S/F', 33), ('Nitrazepam_Tab 5mg', 25), ('Indacaterol/Glycopy_Pdr Inh Cap 85/54mcg', 12), ('Isosorbide Mononit_Cap 60mg M/R', 40), ('Prochlpzine Mal_Tab Buccal 3mg', 8), ('Gliclazide_Tab 30mg M/R', 7), ('Doxazosin Mesil_Tab 2mg', 39), ('Cinchocaine/Prednisolone_Oint 0.5%/0.19%', 4), ('Otomize_Ear Spy 5ml', 52), ('Tibolone_Tab 2.5mg', 5), ('Migraleve Complete_Tab', 6), ('Gabapentin_Cap 400mg', 10), ('Aciclovir_Tab 400mg', 7), ('Ranitidine HCl_Tab Eff 300mg', 2), ('Symbicort_Turbohaler 400mcg/12mcg (60 D)', 21), ('Lansoprazole_Cap 30mg (E/C Gran)', 174), ('Baclofen_Oral Soln 5mg/5ml S/F', 5), ('Ramipril_Tab 5mg', 12), ('Co-Codamol_Cap 30mg/500mg', 362), ('Coloplast_Elasctd Leg Bag Strap (Washabl', 2), ('Non-Woven Fabric Swab 10cm x 10cm Non-St', 19), ('Balneum Plus_Crm', 6), ('Lamotrigine_Tab 100mg', 19), ('Twinrix Adult_Vac 720u/20mcg/ml 1ml Pfs', 10), ('Colecal & Calc_Tab 400u/1.25g', 3), ('Rivaroxaban_Tab 15mg', 9), ('Melatonin_Cap 2mg', 4), ('Mst Continus_Tab 10mg', 15), ('Hypromellose_Eye Dps 1%', 6), ('Fluticasone Prop_Inha 50mcg (120 D) CFF', 3), ('Tolterodine_Tab 2mg', 33), ('Stalevo_Tab 150mg/37.5mg/200mg', 2), ('Atenolol_Tab 100mg', 30), ('Diltiazem HCl_Tab 90mg M/R', 2), ('Asacol_MR Tab E/C 400mg', 3), ('Levetiracetam_Tab 250mg', 13), ('Fenofibrate_Cap 67mg (Micronised)', 5), ('Eklira_Inh 322mcg (60D) (Genuair)', 19), ('Meloxicam_Tab 15mg', 10), ('Dalteparin Sod_Inj 25 000u/ml 0.2ml Pfs', 4), ('Naproxen_Tab 250mg', 68), ('Mepore 11cm x 15cm Pfa + Adh Border Dres', 3), ('Cetraben Crm 1050g', 7), ('Lamictal_Tab 100mg', 2), ('Spasmonal_Cap 60mg', 3), ('Glycopyrronium Brom_Inh Cap 55mcg + Dev', 12), ('Lacri-Lube_Ophth Oint', 24), ('Lipitor_Tab 20mg', 3), ('Mirtazapine_Tab 15mg', 84), ('Quetiapine_Tab 200mg M/R', 3), ('Erythromycin_Tab E/C 250mg', 34), ('3m Health Care_Cavilon No Sting Barrier', 2), ('Levetiracetam_Tab 500mg', 14), ('Amiodarone HCl_Tab 100mg', 5), ('Oxybutynin HCl_Tab 2.5mg', 6), ('Viscotears_Liq Gel 2mg/g', 53), ('Desmopressin Acet_Oral Lyoph 120mcg', 6), ('Esomeprazole_Tab E/C 40mg', 47), ('Onbrez Breezhaler_Pdr Inh Cap 150mcg+Dev', 3), ('Quetiapine_Tab 150mg', 5), ('Budesonide/Formoterol Inh B/A 100/6(120D', 2), ('Buprenorphine_Patch 5mcg/hr (7day)', 34), ('Benzalk Chlor_Shampoo 0.5%', 3), ('Estradiol_Tab 1mg', 6), ('Daktarin_Oromucosal Gel 20mg/g S/F', 2), ('Lamotrigine_Tab 50mg', 30), ('Fesoterodine Fumar_Tab 8mg M/R', 14), ('Domperidone_Tab 10mg', 6), ('Unspec Drug Code_', 3), ('Pulmicort_Turbohaler 200mcg (100 D)', 4), ('Dalivit_Dps', 2), ('Elvanse_Cap 50mg', 2), ('Phenoxymethylpenicillin_Soln 125mg/5ml', 4), ('Gaviscon Advance_Liq (Aniseed) (Reckitt)', 50), ('Promethazine HCl_Tab 25mg', 24), ('Rasagiline Mesil_Tab 1mg', 4), ('Ramipril_Cap 5mg', 126), ('Methylphenidate HCl_Tab 10mg', 5), ('Dimeticone/Benzalk Chlor_Crm 22%/0.1%', 6), ('Dihydrocodeine Tart_Tab 30mg', 28), ('Bramox_Tab 5mg', 2), ('Rivaroxaban_Tab 20mg', 32), ('Risperidone_Tab 500mcg', 6), ('Trimovate_Crm', 7), ('Glandosane A/Spy 50ml (App)', 4), ('Pro D3_Cap 400u', 2), ('Spiriva_Pdr For Inh Cap 18mcg', 14), ('Gppe Pdr Sach_Dioralyte', 3), ('Bisacodyl_Suppos 10mg', 3), ('Ramipril_Cap 2.5mg', 126), ('Bepanthen_Nappy Care Oint 5%', 3), ('Tramadol HCl_Cap 50mg', 337), ('Pramipexole_Tab 88mcg', 7), ('Bisoprolol Fumar_Tab 10mg', 44), ('Ibuprofen/Menthol_Gel 5%/3%', 2), ('Elleste Solo_Tab 1mg', 2), ('Buscopan_Tab 10mg', 15), ('Sod Cromoglicate_Eye Dps Aq 2%', 21), ('Ranitidine HCl_Oral Soln 75mg/5ml S/F', 5), ('Durogesic DTrans_T/Derm Patch 100mcg', 2), ('Cinchocaine HCl/Hydrocort_Oint 0.5%/0.5%', 4), ('Propranolol HCl_Tab 80mg', 3), ('Tapentadol HCl_Tab 100mg M/R', 2), ('Volumatic', 2), ('Melatonin_Oral Soln 5mg/5ml', 7), ('GlucoRx Lancets 0.31mm/30 Gauge', 2), ('Fluticasone Prop_Inha 125mcg (120 D) CFF', 6), ('Telmisartan_Tab 20mg', 3), ('Senna_Tab 7.5mg', 47), ('Omeprazole_Cap E/C 20mg', 1448), ('Dutasteride_Cap 500mcg', 10), ('Latanoprost/Timolol_Eye Dps 50mcg/5mg/ml', 22), ('Calamine Aq_Crm', 3), ('Aveeno_Body Wash', 3), ('Moxonidine_Tab 200mcg', 8), ('Atorvastatin_Tab 40mg', 309), ('Aveeno_Bath Oil', 7), ('Eplerenone_Tab 50mg', 9), ('Madopar_Cap 50mg/12.5mg', 3), ('Co-Beneldopa_Cap 12.5mg/50mg', 5), ('Accrete D3_Tab', 3), ('Diazepam_Tab 10mg', 3), ('Unistik 3 Comfort Lancets 1.8mm/28 Gauge', 5), ('Water For Inj_10ml Amp', 3), ('Cilest_Tab', 11), ('Etoricoxib_Tab 60mg', 7), ('Spironol_Tab 25mg', 51), ('Aciclovir_Crm 5%', 7), ('Lizinna_Tab', 4), ('Thiamine HCl_Tab 100mg', 25), ('Symbicort_Turbohaler 200mcg/6mcg (120 D)', 59), ('Benzoyl Per/Clindamycin Phos_Gel 3%/1%', 11), ('Hyabak Sod Hyaluronate Eye Dps 10ml P/F', 2), ('Nitrofurantoin_Cap 100mg', 3), ('Elleste Duet Conti_Tab', 4), ('Ramipril_Tab 2.5mg', 11), ('Laxido_Oral Pdr Sach (Orange) S/F', 10), ('Amlodipine_Tab 10mg', 325), ('Perindopril Erbumine_Tab 4mg', 13), ('Acetic Acid_Ear Spy 2% 5ml', 24), ('Co-Careldopa_Tab 25mg/100mg', 6), ('Ticagrelor_Tab 90mg', 25), ('Imdur_Durule 60mg', 8), ('Movicol Plain_Pdr Sach 13.7g', 18), ('Tacrolimus_Oint 0.1%', 2), ('Clobetasol Prop_Oint 0.05%', 7), ('BuTrans_Transdermal Patch 10mcg/hr', 7), ('Propiverine HCl_Tab 15mg', 2), ('Hydrocort_Oint 1%', 9), ('Ramipril_Cap 1.25mg', 82), ('Fluconazole_Cap 50mg', 7), ('Depakote_Tab G/R 250mg', 8), ('Fucibet_Crm', 4), ('Cetirizine HCl_Tab 10mg', 104), ('Amorolfine HCl_Nail Lacquer Kit 5% 5ml', 8), ('Dabigatran Etexilate_Cap 150mg', 3), ('Colecal_Tab 400u', 6), ('Paroxetine HCl_Tab 20mg', 34), ('Evorel 25_Patch', 3), ('Varenicline Tart_2Wk Init(Tab 0.5mg/1mg)', 7), ('Aclidinium Brom_Pdr For Inh 375mcg (60D)', 16), ('Nitrofurantoin_Cap 50mg', 16), ('Mefenamic Acid_Tab 500mg', 12), ('Sterimar Hypertonic Nsl Spy 50ml', 16), ('Zolpidem Tart_Tab 10mg', 30), ('Venlafaxine_Tab 225mg M/R', 8), ('Loratadine_Tab 10mg', 57), ('Equasym XL_Cap 20mg', 9), ('Tamoxifen Cit_Tab 20mg', 15), ('Calamine_Lot', 3), ('Valsartan_Tab 320mg', 3), ('Fortisip Compact_Liq (8 Flav)', 3), ('Oxybutynin HCl_Tab 10mg M/R', 7), ('Hydrocort_Crm 1%', 54), ('Hydrocort_Tab 10mg', 8), ('Salbut/Ipratrop_NebSoln 2.5/.5mg Ud2.5ml', 6), ('Tamsulosin HCl_Cap 400mcg M/R', 163), ('Salivix Pastil (App)', 4), ('Aspirin_Tab E/C 75mg', 241), ('Chloramphen_Eye Dps 0.5%', 47), ('Pravastatin Sod_Tab 40mg', 67), ('Difflam_Oral Rinse Soln 0.15%', 6), ('Docusate Sod_Cap 100mg', 32), ('Mst Continus_Tab 30mg', 13), ('Lixisenatide_Inj 20mcg/0.2ml 3ml Pf Pen', 8), ('Simvastatin_Tab 20mg', 321), ('Furosemide_Tab 20mg', 95), ('Folic Acid_Tab 400mcg', 7), ('Buprenorphine_Tab Subling 200mcg S/F', 5), ('Capsaicin_Crm 0.025%', 5), ('Montelukast_Tab Chble 4mg S/F', 10), ('Cetraben Oint 450g', 2), ('Citalopram Hydrob_Tab 20mg', 335), ('Ropinirole HCl_Tab 2mg', 3), ('Rochester Hydrosil Gripper Male Size 10-', 3), ('Phenoxymethylpenicillin_Soln 250mg/5mlSF', 5), ('Sertraline HCl_Tab 50mg', 205), ('Flutiform_Inha 125/5mcg (120 D)', 3), ('Allopurinol_Tab 100mg', 73), ('Diethylamine Sal_Crm 10% BP', 4), ('Exenatide_Inj 10mcg/0.04ml 2.4mlPfs(60D)', 2), ('CareSens Lancets 0.36mm/28 Gauge', 11), ('Sod Valpr_Cap 300mg M/R', 4), ('Zomorph_Cap 10mg', 26), ('Xylomet HCl_Nsl Spy 0.1% 10ml', 3), ('Risedronate Sod_Tab 35mg', 8), ('Dymista_Nsl Spy 50mcg/137mcg (120 D)', 9), ('Adalat LA 20_Tab 20mg', 9), ('Kapake_Tab 30mg/500mg', 2), ('Depakote_Tab G/R 500mg', 3), ('Proctosedyl_Oint', 5), ('Non-Woven Fabric Swab 7.5cm x 7.5cm Ster', 3), ('Fybogel_Gran Sach 3.5g Orange G/F S/F', 6), ('Amoxicillin_Oral Susp 125mg/5ml', 3), ('Peptac_Liq (Peppermint) S/F', 11), ('Xailin Night Paraf Eye Oint P/F 5g', 4), ('C D Medical_Peel Easy Adh Remover Spy 50', 7), ('Similac Alimentum_Pdr', 7), ('Pregabalin_Cap 50mg', 17), ('Isosorbide Mononit_Cap 40mg M/R', 2), ('Ins Humalog_100u/ml 3ml Cart', 9), ('Tostran_Gel 2%', 4), ('Rosuvastatin Calc_Tab 10mg', 10), ('Clenil Modulite_Inha 100mcg (200D)', 85), ('Phenobarb_Tab 30mg', 5), ('Morph Sulf_Oral Soln 10mg/5ml', 46), ('Lisinopril_Tab 5mg', 102), ('Colecal_Cap 1 000u', 4), ('Colecal_Tab 1 000u', 2), ('Fluconazole/Clotrimazole_Cap 150mg/Crm2%', 2), ('Pregabalin_Cap 300mg', 31), ('Celecoxib_Cap 200mg', 3), ('Xailin Carbomer Eye Gel 10g', 5), ('Valproic Acid_Tab G/R 250mg', 9), ('Forceval_Cap', 10), ('Priadel_Tab 200mg', 4), ('Zomorph_Cap 30mg', 16), ('Longtec_Tab 10mg M/R', 4), ('Colesevelam HCl_Tab 625mg', 2), ('Nicotine_Inhalator + Inh Cart 15mg', 8), ('Loperamide HCl_Cap 2mg', 54), ('Micropore 5cm x 5m Surg Adh Tape Perm No', 2), ('Concerta_XL Tab 36mg', 2), ('Desmopressin Acet_Oral Lyoph 240mcg', 3), ('Fluoxetine HCl_Cap 20mg', 188), ('Tapentadol HCl_Tab 150mg M/R', 2), ('Furosemide_Tab 40mg', 181), ('Celluvisc_Eye Dps 0.5% 0.4ml Ud', 16), ('Fluclox Sod_Cap 500mg', 95), ('Fluconazole_Cap 150mg', 6), ('Acenocoumarol_Tab 1mg', 3), ('Prochlpzine Mal_Tab 5mg', 37), ('Convatec_Combihesive Natura Stomahesive', 2), ('Varenicline Tart_Tab 1mg', 9), ('Circadin_Tab 2mg M/R', 18), ('Dilzem SR 90_Cap 90mg', 2), ('Betameth Sod Phos_Ear/Eye/Nsl Dps 0.1%', 4), ('Corsodyl_Mthwsh (Mint) 0.2%', 5), ('Gaviscon_Liq Orig Aniseed Relief', 9), ('Benzoyl Per/Clindamycin Phos_Gel 5%/1%', 12), ('Sildenafil_Tab 50mg', 45), ('Nebivolol_Tab 5mg', 2), ('Trazodone HCl_Oral Liq 50mg/5ml S/F', 2), ('Edoxaban_Tab 30mg', 5), ('Alendronic Acid_Tab 70mg', 158), ('Oseltamivir Phos_Cap 75mg', 2), ('Sod Chlor_Inh Soln 0.9% 2.5ml Ud Amp', 6), ('Paracet_Oral Soln 500mg/5ml S/F', 5), ('Salmeterol_Pdr For Inh 50mcg (60 D)', 5), ('Fenofibrate_Cap 200mg (Micronised)', 8), ('Dosulepin HCl_Cap 25mg', 13), ('Nystatin_Oral Susp 100 000u/ml', 16), ('Gppe Oint_Metanium', 3), ('Budesonide_Pdr For Inh 100mcg (200 D)', 3), ('Losartan Pot_Tab 100mg', 80), ('Vagifem_Vag Tab 10mcg', 5), ('Pred Fte_Eye Dps 1%', 5), ('Epilim 500_Tab E/C 500mg', 7), ('Fluclox Sod_Oral Soln 125mg/5ml', 2), ('Buprenorphine_Patch 35mcg/hr (96hr)', 2), ('Zopiclone_Tab 3.75mg', 98), ('Mometasone Fur_Crm 0.1%', 5), ('Co-Codamol_Tab 15mg/500mg', 19), ('Donepezil HCl_Tab 10mg', 23), ('Selenium Sulfide_Shampoo 2.5%', 4), ('Fostair_Inh 100mcg/6mcg (120D) CFF', 177), ('Tildiem LA 200_Cap 200mg', 4), ('Pregabalin_Cap 25mg', 6), ('NovoFine Needles Pen Inj Screw On 6mm', 21), ('Tears Naturale_Eye Dps', 3), ('Sterimar Isotonic Nsl Spy 50ml', 45), ('Paracet_Oral Soln Paed 120mg/5ml S/F', 35), ('Dioralyte_Pdr Sach (Blkcurrant)', 5), ('Solpadol_Capl 30mg/500mg', 4), ('Olanzapine_Tab 10mg', 3), ('GlucoRX FinePoint Needles Pen Inj Screw', 39), ('Atorvastatin_Tab 80mg', 185), ('Omeprazole_Tab E/C 20mg', 14), ('Buprenorphine_Patch 10mcg/hr (7day)', 18), ('Ins Lantus_100u/ml 3ml Cart', 3), ('Promazine HCl_Tab 25mg', 2), ('Candesartan Cilexetil_Tab 8mg', 40), ('Ferr Fumar_Tab 322mg', 13), ('Glutafin Select_G/F Fresh Loaf Wte (Cut)', 2), ('Darifenacin Hydrob_Tab 7.5mg M/R', 13), ('FreeStyle Optium (Reagent)_Strips', 3), ('Olanzapine_Tab 2.5mg', 7), ('Irbesartan_Tab 150mg', 16), ('Carbocisteine_Soln750mg/10mlSach10ml S/F', 2), ('Carbocisteine_Oral Soln 250mg/5ml', 4), ('Cerazette_Tab 75mcg', 22), ('Codeine Phos_Tab 15mg', 29), ('Benzydamine HCl_Crm 3%', 2), ('Levothyrox Sod_Tab 25mcg', 309), ('Ferr Fumar_Oral Soln 140mg/5ml', 2), ('Fluticasone/Salmeterol_Inh 100/50mcg 60D', 8), ('Phenoxymethylpenicillin_Soln 250mg/5ml', 6), ('BuTrans_Transdermal Patch 20mcg/hr', 6), ('Buprenorphine_Patch 20mcg/hr (7day)', 5), ('Paracet_Cap 500mg', 84), ('Gedarel_Tab 30/150mcg', 2), ('Tadalafil_Tab 10mg', 6), ('Omeprazole_Tab Disper 20mg (E/C Pellets)', 4), ('Fluoxetine HCl_Cap 10mg', 3), ('Gaviscon Double Action_Liq (Peppermint)', 5), ('Bisoprolol Fumar_Tab 2.5mg', 236), ('Baclofen_Tab 10mg', 10), ('Madopar CR_Cap', 2), ('Lyrica_Cap 50mg', 13), ('Colecal_Cap 800u', 20), ('Aripiprazole_Tab 15mg', 2), ('Irbesartan_Tab 300mg', 6), ('Brimonidine Tart_Eye Dps 0.2%', 4), ('Nicorandil_Tab 10mg', 38), ('Care Olive Oil Ear Dps Ear Wax Softening', 9), ('Salmeterol_Inha 25mcg (120 D) CFF', 10), ('Glucophage SR_Tab 500mg', 3), ('Venlafaxine_Tab 75mg M/R', 6), ('Dosulepin HCl_Tab 75mg', 2), ('Fluticasone/Azelastine_Spy50/137mcg 120D', 8), ('Ibuprofen_Tab 200mg', 16), ('Oxytetracycline_Tab 250mg', 20), ('Olanzapine_Orodisper Tab 20mg S/F', 6), ('Nanopass Needles Pen Inj Screw On 4mm/32', 2), ('Salamol_Inha 100mcg (200 D) CFF (Teva)', 2), ('Latanoprost_Eye Dps 50mcg/ml', 67), ('Pulmicort_Turbohaler 100mcg (200 D)', 3), ('Concerta_XL Tab 54mg', 2), ('Metronidazole_Crm 0.75%', 10), ('Flutiform_Inha 250/10mcg (120 D)', 3), ('Voltarol 12 Hour Emulgel P_Gel 2.32%', 5), ('Ibugel_Gel 5%', 2), ('Peppermint Oil_Cap E/C 0.2ml', 9), ('Codeine Phos_Tab 30mg', 139), ('Olanzapine_Tab 5mg', 22), ('Ins Levemir_FlexPen 100u/ml 3ml Pf Pen', 9), ('Colecal & Calc_Tab Chble 400u/1.25g', 14), ('Primidone_Tab 250mg', 3), ('Propranolol HCl_Cap 160mg M/R', 10), ('Liquifilm 1.4% Polyvinyl Alcohol Eye Dps', 17), ('Adizem-SR_Cap 120mg', 2), ('Carbocisteine_Cap 375mg', 75), ('Rusch Sympacath AquaFlate Male H/Gel Ctd', 3), ('Quetiapine_Tab 400mg M/R', 6), ('Spiriva_Pdr For Inh Cap 18mcg+HandiHaler', 2), ('Coloplast_Sensura S/Seal M/chamb Urost B', 4), ('Coal Tar_Ext Shampoo 2%', 7), ('Diclofenac Sod_Gel 1.16%', 129), ('Mst Continus_Tab 15mg', 6), ('Dorzolamide_Eye Dps 2%', 8), ('Adcal-D3_Capl 750mg/200u', 20), ('Doublebase_Emollient Bath Add', 7), ('Montelukast_Tab Chble 5mg S/F', 10), ('Ursodeoxycholic Acid_Cap 250mg', 4), ('Voltarol Emulgel P_Aq Gel 1.16%', 9), ('Conotrane_Crm', 10), ('Bicalutamide_Tab 150mg', 2), ('Sumatriptan_Tab 50mg', 34), ('NovoFine Autocover Pen Inj Screw On 8mm', 2), ('Temazepam_Tab 20mg', 7), ('Sod Valpr_Tab 100mg', 2), ('Rotigotine_Transdermal Patch 2mg/24hrs', 2), ('Ensure Plus Commence_Liq (2200 (10x220)', 2), ('Testosterone_Gel 2% (10mg per actuation)', 4), ('Oilatum Jnr_Crm (Liq)', 2), ('Oilatum Jnr_Bath Additive', 9), ('Ramipril_Cap 10mg', 190), ('Doxycycline_Cap 40mg M/R', 2), ('Durogesic DTrans_T/Derm Patch 12mcg', 2), ('Hydromol Intensive_Crm 10%', 2), ('Betameth Val_Crm 0.1%', 46), ('Relvar Ellipta_Inha 184mcg/22mcg (30 D)', 6), ('Engerix B_Vac 20mcg/ml 1ml Vl', 2), ('Oilatum_Scalp Tt Shampoo', 2), ('Seretide 500_Accuhaler 500mcg/50mcg(60D)', 25), ('Omeprazole_Cap E/C 10mg', 68), ('Tramadol HCl_Cap 100mg M/R', 9), ('Pantoprazole_Tab E/C 40mg', 9), ('Emulsif_Oint', 4), ('Allevyn Gentle Border Heel 23cmx23.2cm W', 2), ('Prednisolone_Tab E/C 5mg', 44), ('Duaklir Genuair_340mcg/12mcg (60D)', 2), ('Mebeverine HCl_Cap 200mg M/R', 8), ('Co-Codamol_Tab 30mg/500mg', 170), ('Ivabradine_Tab 5mg', 21), ('Clobet But_Crm 0.05%', 20), ('Diprobase_Oint', 16), ('Gaviscon Cool_Liq (Peppermint) S/F', 2), ('Pizotifen Malate_Tab 500mcg', 10), ('Nicotine_Transdermal Patch 15mg/16hrs', 5), ('Sno Tears 1.4% Polyvinyl Alcohol Eye Dps', 6), ('Aliskiren_Tab 300mg', 2), ('Amiloride HCl/Cyclopenth_Tab 2.5/0.25mg', 2), ('Naproxen_Tab 500mg', 155), ('Alfuzosin HCl_Tab 2.5mg', 3), ('Escitalopram_Tab 10mg', 7), ('Azopt_Eye Dps 10mg/ml', 4), ('Tramadol HCl_Cap 150mg M/R', 2), ('Colchicine_Tab 500mcg', 13), ('Epaderm Crm', 17), ('Ketoconazole_Crm 2%', 2), ('Procyclidine HCl_Tab 5mg', 12), ('Haloperidol_Tab 5mg', 10), ('Naseptin_Crm', 7), ('Havrix Monodose_Vac 1440u/ml 1ml Pfs', 10), ('Alginate_Raft-Forming Oral Susp S/F', 13), ('Naproxen_Tab E/C 500mg', 82), ('Captopril_Tab 12.5mg', 2), ('Propranolol HCl_Tab 40mg', 121), ('Pioglitazone HCl_Tab 45mg', 4), ('Amantadine HCl_Cap 100mg', 4), ('OneTouch Verio (Reagent)_Strips', 7), ('Irbesartan_Tab 75mg', 13), ('Metoprolol Tart_Tab 50mg', 4), ('Fluticasone/Salmeterol_Inh 250/25mcg120D', 18), ('Stalevo_Tab 100mg/25mg/200mg', 3), ('Alimemazine Tart_Oral Soln 30mg/5ml', 3), ('Ensure Compact_Liq (4 Flav)', 10), ('Salamol E-Breathe_Inh 100mcg (200 D) CFF', 18), ('Miconazole Nit_Crm 2%', 6), ('Epilim Chrono 500_Tab 500mg C/R', 11), ('Ins NovoMix 30_FlexPen 100u/ml 3ml PfPen', 45), ('Tolterodine_Cap 4mg M/R', 3), ('Carvedilol_Tab 12.5mg', 12), ('Femoston-conti_Tab 0.5mg/2.5mg', 4), ('Indometacin_Cap 50mg', 5), ('Memantine HCl_Tab 20mg', 12), ('Ciprofloxacin_Tab 500mg', 15), ('Azithromycin_Oral Susp 200mg/5ml', 2), ('Atrop Sulf_Eye Dps 1%', 2), ('Dansac_EasiSpray Adh Remover 50ml', 10), ('Clonazepam_Tab 500mcg', 16), ('Edoxaban_Tab 60mg', 24), ('Propiverine HCl_Cap 30mg M/R', 3), ('Adalat LA 60_Tab 60mg', 5), ('Atenolol_Tab 50mg', 131), ('Ispag/Mebeverine_Gran Eff 3.5g/135mg S/F', 6), ('Desloratadine_Tab 5mg', 2), ('Flixonase_Aq Nsl Spy 50mcg (150 D)', 3), ('Dorzolamide/Timolol_Eye Dps 2%/0.5%', 12), ('Juvela_G/F W/F Pure Oats', 2), ('Duloxetine HCl_Cap G/R 40mg', 2), ('Losartan Pot_Tab 12.5mg', 13), ('Exemestane_Tab 25mg', 5), ('Hypromellose_Eye Dps 0.5%', 10), ('Ensure Plus Juce_Liq Feed (6 Flav)', 10), ('Dermol 600_Bath Emollient', 12), ('Budesonide/Formoterol Inh B/A 200/6(120D', 18), ('Ferr Sulf_Tab 200mg', 64), ('Flupentixol HCl_Tab 1mg', 4), ('Omeprazole_Tab Disper 10mg (E/C Pellets)', 2), ('Abasaglar KwikPen_100u/ml 3ml Pf Pen', 3), ('Chlorpromazine HCl_Tab 25mg', 4), ('Brinzolamide_Eye Dps 10mg/ml', 5), ('Asacol_MR Tab E/C 800mg', 9), ('Lisinopril_Tab 10mg', 185), ('Millinette_Tab 20/75mcg', 3), ('Pyridox HCl_Tab 50mg', 2), ('Hydrocort But_Oint 0.1%', 3), ('Co-Amoxiclav_Tab 250mg/125mg', 2), ('Salbutamol_Inha 100mcg (200 D) CFF', 633), ('Fesoterodine Fumar_Tab 4mg M/R', 4), ('Kliovance_Tab', 2), ('Miconazole_Oromucosal Gel 20mg/g S/F', 7), ('Tadalafil_Tab 20mg', 2), ('Diprobase_Crm', 45), ('Quetiapine_Tab 100mg', 24), ('Adizem-XL_Cap 300mg', 6), ('Nicotine_Chewing Gum 4mg S/F', 2), ('Hirudoid_Crm 0.3%', 4), ('Revaxis_Vac 0.5ml Pfs', 17), ('Quinine Sulf_Tab 300mg', 17), ('Fexofenadine HCl_Tab 120mg', 20), ('Micronor_Tab 350mcg', 6), ('Propranolol HCl_Cap 80mg M/R', 49), ('Hydromol Oint', 28), ('CliniMed_LiMone Deod A/Spy 50ml', 4), ('Trimethoprim_Oral Susp 50mg/5ml S/F', 14), ('Solifenacin_Tab 5mg', 30), ('Losartan Pot/Hydchloroth_Tab 50mg/12.5mg', 8), ('Dermol 200_Shower Emollient', 18), ('Ipratrop Brom_Inh Soln 250mcg/1ml Ud', 3), ('Sertraline HCl_Tab 100mg', 201), ('Azathioprine_Tab 50mg', 15), ('Anusol HC_Oint', 9), ('Zopiclone_Tab 7.5mg', 105), ('Letrozole_Tab 2.5mg', 22), ('Ins Humalog Mix 25_100u/ml 3ml Cart', 4), ('Hydroxyzine HCl_Tab 25mg', 6), ('Liq Paraf Light_Bath Add 63.4%', 11), ('Resource_ThickenUp Pdr Clr', 2), ('Doxazosin Mesil_Tab 4mg M/R', 8), ('Gabapentin_Cap 300mg', 130), ('Alverine Cit_Cap 120mg', 3), ('Bendroflumethiazide_Tab 5mg', 9), ('Mirtazapine_Tab 30mg', 79), ('Lyrica_Cap 225mg', 8), ('Fluclox Sod_Cap 250mg', 8), ('Chlorhex Glucon_Soln 4%', 2), ('Colecal & Calc_Tab Eff 400u/1.5g (Lem)', 5), ('Epilim Chrono 200_Tab 200mg C/R', 10), ('Gabapentin_Cap 100mg', 22), ('Dovobet_Gel Applic', 2), ('Liraglutide_Inj 6mg/ml 3ml PF Pen', 23), ('Cyanocobalamin_Tab 50mcg', 8), ('Enalapril Mal_Tab 2.5mg', 6), ('Fentanyl_Transdermal Patch 25mcg/hr', 16), ('Digoxin_Tab 125mcg', 24), ('Montelukast_Tab 10mg', 68), ('Thick & Easy_Food Thickener', 5), ('Aspirin Disper_Tab 75mg', 393), ('Flecainide Acet_Tab 100mg', 12), ('Digoxin_Tab 62.5mcg', 15), ('Atorvastatin_Tab 10mg', 113), ('E45_Itch Relief Crm', 7), ('Ins NovoRapid_FlexPen 100u/ml 3ml Pf Pen', 54), ('Diclof Sod E/C /Misopros_Tab 50mg/200mcg', 4), ('Micralax_Micro-Enem 5ml', 3), ('Citalopram Hydrob_Tab 40mg', 79), ('Fluticasone/Salmeterol_Inh 500/50mcg 60D', 34), ('Co-Beneldopa_Cap 25mg/100mg M/R', 2), ('Anusol_Oint', 4), ('TEE2 (Reagent)_Strips', 84), ('Budesonide_Pdr For Inh 200mcg (100 D)', 10), ('Hydrocort/Miconazole Nit_Oint 1%/2%', 12), ('Coloplast_S2 Urine Drain Bag + Nrv + Stn', 9), ('Olanzapine_Tab 15mg', 10), ('Equasym XL_Cap 10mg', 6), ('Sod Valpr_Tab E/C 500mg', 4), ('Lisinopril/Hydchloroth_Tab 20mg/12.5mg', 7), ('Spironol_Tab 50mg', 7), ('Mirtazapine_Tab 45mg', 114), ('Depo-Provera_Inj 150mg/ml 1ml Pfs', 18), ('Salbutamol_Inha B/A 100mcg (200 D) CFF', 65), ('Felodipine_Tab 10mg M/R', 8), ('Rabeprazole Sod_Tab E/C 20mg', 6), ('Ropinirole HCl_Tab 1mg', 4), ('Ketoconazole_Shampoo 2%', 37), ('Sharpsafe 1L', 37), ('Estradiol_Tab 2mg', 7), ('Gentamicin/Hydrocort Acet_Ear Dps 0.3/1%', 3), ('Jevity Promote_Liq', 2), ('Nicorandil_Tab 20mg', 33), ('Itraconazole_Cap 100mg', 5), ('Lyrica_Cap 25mg', 19), ('Travoprost_Eye Dps 40mcg/ml', 3), ('Venlafaxine_Tab 37.5mg', 10), ('Co-Amoxiclav_Tab 500mg/125mg', 24), ('Fluclox Sod_Oral Soln 250mg/5ml S/F', 3), ('Epilim_Liq 200mg/5ml S/F', 5), ('Co-Trimoxazole_Tab 80mg/400mg', 2), ('Sod Valpr_Oral Soln 200mg/5ml S/F', 5), ('Sterimar Baby Nsl Spy 50ml', 10), ('Travatan_Eye Dps 40mcg/ml', 2), ('Alverine Cit_Cap 60mg', 12), ('Terazosin HCl_Tab 5mg', 4), ('OneTouch UltraSoft Lancets 0.4mm/28 Gaug', 2), ('Ins Humalog_KwikPen 100u/ml 3ml Pf Pen', 3), ('Sumatriptan_Aq Nsl Spy 10mg/0.1ml Ud', 3), ('Tegretol Prolonged Release_Tab 400mg M/R', 12), ('Capasal_Therapeutic Shampoo', 6), ('Dermol_Crm', 11), ('Vardenafil_Tab 20mg', 2), ('Ursodeoxycholic Acid_Tab 150mg', 2), ('Pizotifen Malate_Tab 1.5mg', 11), ('Apixaban_Tab 5mg', 48), ('Lactulose_Soln 3.1g-3.7g/5ml', 77), ('Starch Maize Modified_Pdr G/F', 3), ('Co-Dydramol_Tab 10mg/500mg', 39), ('Bimatoprost_Eye Dps 100mcg/ml', 8), ('Flexitol Urea Heel Balm', 10), ('Duac_Once Daily Gel (5% and 1%)', 8), ('Verapamil HCl_Tab 40mg', 6), ('Carvedilol_Tab 25mg', 3), ('Doxazosin Mesil_Tab 8mg M/R', 16), ('Octenisan_Antimicrobial Wsh Lot', 3), ('Carbomer 980_Gel Eye Dps 0.2% 0.6mlUdP/F', 8), ('Tiotropium_Inha 2.5mcg (60D) CFF + Dev', 22), ('Paroxetine HCl_Tab 10mg', 8), ('Rosuvastatin Calc_Tab 5mg', 13), ('Venlafaxine_Tab 150mg M/R', 21), ('Co-Codamol Eff_Tab 8mg/500mg', 9), ('Paracet_Oral Susp Paed 120mg/5ml S/F', 6), ('Nizoral_Shampoo 2%', 3), ('Dovobet_Oint 0.005%/0.05%', 2), ('Oxybutynin HCl_Tab 5mg M/R', 11), ('Nicorette_QuickMist Oromucosal P/Spy', 8), ('Gabapentin_Tab 600mg', 32), ('Loperamide HCl_Tab 2mg', 3), ('Aerochamber Plus', 33), ('Aripiprazole_Tab 10mg', 6), ('Rizatriptan_Orodisper Tab 10mg S/F', 6), ('Venlafaxine_Cap 150mg M/R', 2), ('Cosopt_Ocumeter Plus Eye Dps', 4), ('Carbomer 980_Gel Eye Dps 0.2%', 43), ('Movicol Plain_Paed Pdr Sach 6.9g', 21), ('Nortriptyline_Tab 25mg', 4), ('Prempak-C_C/Pk Tab 625mcg/150mcg', 3), ('Keppra_Tab 1g', 4), ('Donepezil HCl_Tab 5mg', 18), ('Omeprazole_Cap E/C 40mg', 28), ('Calcipotriol_Oint 50mcg/1g', 5), ('Ultibro Breezhaler_Pdr Inh Cap + Dev', 10), ('Qvar 100_Autohaler 100mcg (200 D)', 5), ('Algesal_Crm 10%', 3), ('Amoxicillin_Oral Susp 250mg/5ml S/F', 22), ('Seretide 250_Accuhaler 250mcg/50mcg(60D)', 10), ('Zomorph_Cap 60mg', 6), ('Nicotine_Transdermal Patch 25mg/16hrs', 6), ('Pregabalin_Cap 75mg', 23), ('Contour (Reagent)_Strips', 2), ('Chlorhex HCl/Neomycin Sulf_Crm 0.1/0.5%', 17), ('Adizem-XL_Cap 240mg', 3), ('Calcipotriol/Betameth_Gel 0.005%/0.05%', 11), ('Ins Humulin I_KwikPen 100u/ml 3ml Pf Pen', 2), ('Noriday_Tab 350mcg', 4), ('Coloplast_Simpla Plus Leg Bag Ster 500ml', 2), ('Pioglitazone HCl_Tab 15mg', 10), ('Macrogol_Co Oral Pdr Sach S/F', 72), ('Movicol_Paed Pdr Sach 6.9g (Choc)', 4), ('Eplerenone_Tab 25mg', 13), ('Adcal-D3_Tab Chble (Tutti-Frutti)', 101), ('Indapamide_Tab 1.5mg M/R', 12), ('Quinine Sulf_Tab 200mg', 27), ('Cerelle_Tab 75mcg', 15), ('Cetraben Oint 125g', 3), ('Betameth Val_Oint 0.025% (1 in 4)', 3), ('Peristeen Accessory Unit', 5), ('Doxycycline Hyclate_Cap 100mg', 128), ('Phenytoin_Sod Cap 100mg', 15), ('Verapamil HCl_Tab 240mg M/R', 4), ('Amitriptyline HCl_Tab 10mg', 280), ('Enalapril Mal_Tab 5mg', 15), ('Folic Acid_Tab 5mg', 206), ('Amitriptyline HCl_Tab 25mg', 45), ('Levetiracetam_Tab 1g', 13), ('Nexium_Tab 20mg', 2), ('Ezetimibe_Tab 10mg', 50), ('Co-Beneldopa_Tab Disper 12.5mg/50mg S/F', 2), ('Chlorphenamine Mal_Oral Soln 2mg/5ml', 13), ('Benzydamine HCl_Mthwsh 0.15% S/F', 13), ('Gaviscon_Liq Relief Peppermint', 5), ('Nifedipine_Cap 5mg', 5), ('Hydrocort/Clotrimazole_Crm 1%/1%', 20), ('Quetiapine_Tab 25mg', 59), ('Epilim Chrono 300_Tab 300mg C/R', 6), ('Bisoprolol Fumar_Tab 7.5mg', 17), ('Naratriptan HCl_Tab 2.5mg', 4), ('Azathioprine_Tab 25mg', 6), ('Estriol_Crm 0.01% + Applic', 4), ('Co-Beneldopa_Tab Disper 25mg/100mg S/F', 2), ('Difflam_P/Spy 0.15% 30ml', 12), ('Doxazosin Mesil_Tab 1mg', 17), ('Dermax Therapeutic_Shampoo 0.5%', 3), ('Epaderm Oint', 16), ('Perindopril Erbumine_Tab 8mg', 10), ('Buprenorphine_Tab Subling 400mcg S/F', 6), ('Fluticasone/Salmeterol_Inh 125/25mcg120D', 16), ('Estradiol_Gel Sach 1mg/1g', 2), ('Tiotropium_Pdr For Inh Cap 18mcg', 73), ('Glutafin_G/F Bread Roll x 4 Wte', 2), ('Evorel 50_Patch', 2), ('Lercanidipine HCl_Tab 10mg', 4), ('Pneumococcal_Vac 0.5ml Vl (23 Valent)', 7), ('Hydrocort/Miconazole Nit_Crm 1%/2%', 43), ('Lamictal_Tab 25mg', 3), ('Nitrofurantoin_Tab 100mg', 10), ('Livial_Tab 2.5mg', 2), ('Combivent UDVs_Neb Soln Ud 2.5ml', 3), ('Amoxicillin_Cap 250mg', 6), ('Clonidine HCl_Tab 25mcg', 6), ('Candesartan Cilexetil_Tab 2mg', 19), ('Lymecycline_Cap 408mg', 29), ('Prednisolone_Tab Solb 5mg', 8), ('Symbicort_Turbohaler 100mcg/6mcg (120 D)', 9), ('Betameth Val_Oint 0.1%', 18), ('Sod Valpr_Oral Soln 200mg/5ml', 4), ('Zumenon_Tab 1mg', 3), ('Ipratrop Brom_Inha 20mcg (200 D) CFF', 13), ('Rivastigmine_Cap 6mg', 3), ('Chemydur 60 XL_Tab 60mg', 11), ('Fostair NEXThaler_Inh 200mcg/6mcg (120D)', 3), ('Keppra_Tab 500mg', 5), ('Dermol Wash_Cutaneous Emuls', 5), ('Mirabegron_Tab 50mg M/R', 20), ('Colecal_Tab 800u', 16), ('Co-Codamol Eff_Tab 30mg/500mg', 25), ('Carmellose Sod_Eye Dps 0.5% 0.4ml Ud P/F', 4), ('Gaviscon Infant_Sach 2g (Dual Pack) S/F', 17), ('Dansac_Nova 1 Drnbl + E/Fld Ileo Bag Sym', 7), ('Anastrozole_Tab 1mg', 5), ('Esomeprazole_Cap E/C 40mg', 21), ('Fluticasone Prop_Nsl Spy 50mcg (150 D)', 18), ('Timodine_Crm', 2), ('Valproic Acid_Tab G/R 500mg', 13), ('Dipyridamole M/R/Aspirin_Cap 200mg/25mg', 8), ('BD Micro-Fine Ultra Needles Pen Inj Scre', 12), ('Co-Codamol_Cap 15mg/500mg', 74), ('Prednisolone Acet_Eye Dps 1%', 7), ('Nebusal Sod Chlor 7% Inh Soln 4ml', 10), ('Salicylic Acid/Mucopolysac_Gel 2%/0.2%', 13), ('Flupentixol HCl_Tab 500mcg', 2), ('Hydrocort Acet/Fusidic Acid_Crm 1%/2%', 7), ('Clopidogrel_Tab 75mg', 199), ('Pyridox HCl_Tab 10mg', 2), ('Dansac_Nova Colo Bag Clr S/H 20-60mm', 3), ('Adapalene/Benzoyl Per_Gel 0.1%/2.5%', 6), ('Sod Alginate/Pot Bicarb_Tab Chble 500mg', 3), ('Fentanyl_Transdermal Patch 50mcg/hr', 13), ('Uniphyllin Continus_Tab 200mg', 8), ('Doublebase_Gel', 84), ('OneTouch Select Plus (Reagent)_Strips', 2), ('Carbamazepine_Tab 200mg', 15), ('Hydroxocobalamin_Inj 1mg/ml 1ml Amp', 79), ('Adcal-D3_Tab Chble (Lem)', 19), ('Timolol_Eye Dps 0.25%', 3), ('Felodipine_Tab 5mg M/R', 7), ('Amoxicillin_Oral Susp 125mg/5ml S/F', 10), ('Glyceryl Trinit_Sub A/Spy 400mcg (180D)', 54), ('Clotrimazole_Crm 2%', 10), ('Terbinafine HCl_Crm 1%', 5), ('Sunsense_Ultra Lot Spf 50+', 3), ('Celecoxib_Cap 100mg', 10), ('Salicylic Acid/Mucopolysac_Crm 2%/0.2%', 3), ('Warfarin Sod_Tab 3mg', 111), ('Clobet But_Oint 0.05%', 11), ('Oilatum_Crm (New Form) (Liq)', 25), ('Mobile (Reagent)_Strips', 12), ('Budesonide_Pdr For Inh 200mcg (100D)+Dev', 2), ('Sitagliptin_Tab 100mg', 87), ('Enalapril/Hydchloroth_Tab 20mg/12.5mg', 3), ('Avanafil_Tab 100mg', 2), ('Colecal & Calc_Tab Chble 200u/1.25g', 5), ('Easyhaler_Salbutamol Sulf 100mcg (200D)', 3), ('Transtec_T/Derm Patch 70mcg/hr (40mg)', 2), ('Pantoprazole_Tab E/C 20mg', 3), ('Indapamide_Tab 2.5mg', 73), ('Lofepramine HCl_Tab 70mg', 7), ('NovoTwist Needles Pen Inj Screw On 5mm/3', 7), ('Canesten HC_Crm', 3), ('BuTrans_Transdermal Patch 5mcg/hr', 5), ('Hyetellose_Eye Dps 0.44% Ud', 2), ('Paracet_Oral Susp 250mg/5ml', 5), ('Ranitidine HCl_Tab 150mg', 73), ('Verapamil HCl_Tab 120mg', 2), ('Meloxicam_Tab 7.5mg', 7), ('Coloplast_Simpla Profile Night Bag + 120', 8), ('Furosemide_Oral Soln 40mg/5ml S/F', 3), ('Seretide 250_Evohaler 250mcg/25mcg(120D)', 23), ('Memantine HCl_Tab 10mg', 2), ('Upostelle_Tab 1500mcg', 2), ('Perindopril Erbumine_Tab 2mg', 9), ('Seretide 125_Evohaler 125mcg/25mcg(120D)', 13), ('Omnican Fine Needles Pen Inj Screw On 4m', 6), ('Candesartan Cilexetil_Tab 16mg', 29), ('Paracet_Oral Susp 250mg/5ml S/F', 19), ('Carbamazepine_Tab 100mg', 24), ('Optive Fusion Sod Hyaluronate Eye Dps 10', 6), ('Glyceryl Trinit_Sub P/Spy 400mcg (180D)', 13), ('Venlafaxine_Tab 75mg', 13), ('Dapagliflozin_Tab 10mg', 13), ('Fluoxetine HCl_Cap 40mg', 7), ('Microlet Lancets 0.5mm/28 Gauge', 2), ('Alendronic Acid_Tab 10mg', 2), ('Leflunomide_Tab 10mg', 2), ('Coloplast_Simpla Profile Leg Bag 500ml 6', 5), ('Nitrofurantoin_Tab 50mg', 88), ('BD Microfine+ Needles Pen Inj Screw On 5', 7)]\n"
     ]
    }
   ],
   "source": [
    "total_items_by_bnf_post = {post: [] for post in groups}\n",
    "for post in groups:\n",
    "    bnf_groups = group_by_field(groups[post], 'bnf_name')\n",
    "    for bnf in bnf_groups:\n",
    "        total_items_bnf = sum([script['items'] for script in bnf_groups[bnf]])\n",
    "        total_items_by_bnf_post[post].append((bnf, total_items_bnf))\n",
    "    \n",
    "print(total_items_by_bnf_post['WN3 5HL'])"
   ]
  },
  {
   "cell_type": "markdown",
   "metadata": {},
   "source": [
    "Let's use `total_items` to find the maximum item total for each postal code. To do this, we will want to regroup `total_items_by_bnf_post` by `'post_code'` only, not by `('post_code', 'bnf_name')`. First let's turn `total_items` into a list of dictionaries (similar to `scripts` or `practices`) and then group it by `'post_code'`. You should have 118 groups in the resulting `total_items_by_post` after grouping `total_items` by `'post_code'`."
   ]
  },
  {
   "cell_type": "code",
   "execution_count": 39,
   "metadata": {},
   "outputs": [
    {
     "data": {
      "text/plain": [
       "{'WN3 5HL': 31149,\n",
       " 'BB7 2JG': 44585,\n",
       " 'TS24 7PW': 58207,\n",
       " 'LN2 2JP': 46173,\n",
       " 'TW13 4GU': 19584,\n",
       " 'SK11 6JL': 110071,\n",
       " 'BL9 0SN': 35275,\n",
       " 'NE37 2PU': 57500,\n",
       " 'TW3 3LN': 40141,\n",
       " 'WD18 0JP': 21034,\n",
       " 'LS9 9EF': 48051,\n",
       " 'SS13 3HQ': 38513,\n",
       " 'BD3 8QH': 21010,\n",
       " 'NW10 8RY': 21553,\n",
       " 'S63 9EH': 34787,\n",
       " 'LA1 1PN': 47335,\n",
       " 'TN24 0GP': 16955,\n",
       " 'M30 0NU': 25597,\n",
       " 'YO16 4LZ': 52032,\n",
       " 'SR5 2LT': 44895,\n",
       " 'ST8 6AG': 34516,\n",
       " 'GU9 9QS': 32131,\n",
       " 'ST3 6AB': 38705,\n",
       " 'TS10 4NW': 45161,\n",
       " 'DN22 7XF': 43091,\n",
       " 'WN7 1HR': 29076,\n",
       " 'RM3 9SU': 25476,\n",
       " 'LE10 1DS': 49335,\n",
       " 'DN34 4GB': 48013,\n",
       " 'WA9 1LN': 29644,\n",
       " 'S65 1DA': 71683,\n",
       " 'PL7 1AD': 65051,\n",
       " 'BB9 7SR': 38224,\n",
       " 'BH23 3AF': 32545,\n",
       " 'NG7 3GW': 17698,\n",
       " 'B23 6DJ': 24859,\n",
       " 'KT6 6EZ': 38975,\n",
       " 'L31 0DJ': 32065,\n",
       " 'CH65 6TG': 25090,\n",
       " 'CW7 1AT': 43164,\n",
       " 'HA3 7LT': 32113,\n",
       " 'WN7 2PE': 23130,\n",
       " 'WA7 1AB': 41314,\n",
       " 'GL1 3PX': 38120,\n",
       " 'ST1 4PB': 24227,\n",
       " 'SS9 5UU': 26095,\n",
       " 'OL11 1DN': 21567,\n",
       " 'ME8 8AA': 25257,\n",
       " 'KT14 6DH': 26758,\n",
       " 'BB4 5SL': 29388,\n",
       " 'SE1 6JP': 45030,\n",
       " 'WS3 3JP': 35242,\n",
       " 'M11 4EJ': 23166,\n",
       " 'WF13 1HN': 25456,\n",
       " 'TS17 0EE': 68388,\n",
       " 'B70 7AW': 36531,\n",
       " 'FY5 2TZ': 44258,\n",
       " 'FY7 8GU': 34473,\n",
       " 'NN16 8DN': 50771,\n",
       " 'CW1 3AW': 64104,\n",
       " 'OL9 7AY': 28394,\n",
       " 'BB11 2DL': 34356,\n",
       " 'SE15 5LJ': 15258,\n",
       " 'BH18 8EE': 39413,\n",
       " 'BL1 8TU': 26132,\n",
       " 'BB8 0JZ': 54380,\n",
       " 'NE24 1DX': 50491,\n",
       " 'BL3 5HP': 27147,\n",
       " 'OL1 1NL': 41046,\n",
       " 'BB2 1AX': 28254,\n",
       " 'CB9 8HF': 51337,\n",
       " 'LE18 2EW': 37144,\n",
       " 'TN34 1BA': 47440,\n",
       " 'CT11 8AD': 44358,\n",
       " 'WA10 2DJ': 40394,\n",
       " 'L36 7XY': 22965,\n",
       " 'HU7 4DW': 49107,\n",
       " 'DA11 8BZ': 24090,\n",
       " 'SK6 1ND': 28313,\n",
       " 'FY2 0JG': 69118,\n",
       " 'TS23 2DG': 31646,\n",
       " 'BL9 0NJ': 32062,\n",
       " 'WN2 5NG': 22795,\n",
       " 'NE38 7NQ': 52803,\n",
       " 'NE10 9QG': 39882,\n",
       " 'SM3 8EP': 24965,\n",
       " 'LE5 3GH': 28654,\n",
       " 'TS1 2NX': 47623,\n",
       " 'TS3 6AL': 51402,\n",
       " 'SS0 7AF': 21569,\n",
       " 'L7 6HD': 42569,\n",
       " 'TR1 2JA': 40194,\n",
       " 'B11 4BW': 20673,\n",
       " 'CH1 4DS': 34915,\n",
       " 'B18 7AL': 19001,\n",
       " 'M26 2SP': 37718,\n",
       " 'NG7 5HY': 24903,\n",
       " 'HG1 5AR': 32684,\n",
       " 'BB3 1PY': 54514,\n",
       " 'L5 0QW': 24676,\n",
       " 'SS8 0JA': 45848,\n",
       " 'N9 7HD': 30706,\n",
       " 'GL50 4DP': 74822,\n",
       " 'FY4 1TJ': 62886,\n",
       " 'B21 9RY': 29103,\n",
       " 'CV1 4FS': 37210,\n",
       " 'SM6 0HY': 46016,\n",
       " 'S74 9AF': 55305,\n",
       " 'M35 0AD': 37632,\n",
       " 'TW8 8DS': 26941,\n",
       " 'W10 6DZ': 16264,\n",
       " 'CW5 5NX': 38797,\n",
       " 'SR4 7XF': 49843,\n",
       " 'WS10 8SY': 12598,\n",
       " 'OL4 1YN': 24687,\n",
       " 'DA1 2HA': 26075,\n",
       " 'WV13 2DR': 33844,\n",
       " 'HA0 4UZ': 22755}"
      ]
     },
     "execution_count": 39,
     "metadata": {},
     "output_type": "execute_result"
    }
   ],
   "source": [
    "total_items_by_post = {}\n",
    "for post in groups:\n",
    "    total_items = sum([script['items'] for script in groups[post]])\n",
    "    total_items_by_post[post] = total_items\n",
    "    \n",
    "assert len(total_items_by_post) == 118\n",
    "total_items_by_post"
   ]
  },
  {
   "cell_type": "markdown",
   "metadata": {},
   "source": [
    "Now we will aggregate the groups in `total_by_item_post` to create `max_item_by_post`. Some `'bnf_name'` have the same item total within a given postal code. Therefore, if more than one `'bnf_name'` has the maximum item total in a given postal code, we'll take the alphabetically first `'bnf_name'`. We can do this by [sorting](https://docs.python.org/2.7/howto/sorting.html) each group according to the item total and `'bnf_name'`."
   ]
  },
  {
   "cell_type": "code",
   "execution_count": 45,
   "metadata": {},
   "outputs": [
    {
     "name": "stdout",
     "output_type": "stream",
     "text": [
      "[('WN3 5HL', 'Omeprazole_Cap E/C 20mg', 0.046486243539118434), ('BB7 2JG', 'Omeprazole_Cap E/C 20mg', 0.029471795446899183), ('TS24 7PW', 'Paracet_Tab 500mg', 0.03858642431322693), ('LN2 2JP', 'Omeprazole_Cap E/C 20mg', 0.036189981157819504), ('TW13 4GU', 'Omeprazole_Cap E/C 20mg', 0.03073937908496732), ('SK11 6JL', 'Omeprazole_Cap E/C 20mg', 0.029244760200234393), ('BL9 0SN', 'Omeprazole_Cap E/C 20mg', 0.03257264351523742), ('NE37 2PU', 'Paracet_Tab 500mg', 0.02777391304347826), ('TW3 3LN', 'Omeprazole_Cap E/C 20mg', 0.02742831518895892), ('WD18 0JP', 'Omeprazole_Cap E/C 20mg', 0.032471237044784634)]\n"
     ]
    }
   ],
   "source": [
    "from operator import itemgetter\n",
    "max_item_by_post = []\n",
    "for post in total_items_by_bnf_post:\n",
    "    total_items_by_bnf_post[post].sort(key=itemgetter(1, 0), reverse=True)\n",
    "    max_item_by_post.append((post, total_items_by_bnf_post[post][0][0], total_items_by_bnf_post[post][0][1]))\n",
    "\n",
    "item_by_post = []\n",
    "for post in max_item_by_post:\n",
    "    item_by_post.append((post[0], post[1], post[2] / total_items_by_post[post[0]]))\n",
    "    \n",
    "print(item_by_post[:10])"
   ]
  },
  {
   "cell_type": "markdown",
   "metadata": {},
   "source": [
    "In order to express the item totals as a proportion of the total amount of items prescribed across all `'bnf_name'` in a postal code, we'll need to use the total items prescribed that we previously calculated as `items_by_post`. Calculate the proportions for the most common `'bnf_names'` for each postal code. Format your answer as a list of tuples: `[(post_code, bnf_name, total)]`"
   ]
  },
  {
   "cell_type": "code",
   "execution_count": 46,
   "metadata": {},
   "outputs": [
    {
     "name": "stdout",
     "output_type": "stream",
     "text": [
      "[('B11 4BW', 'Salbutamol_Inha 100mcg (200 D) CFF', 0.03415082474725487), ('B18 7AL', 'Salbutamol_Inha 100mcg (200 D) CFF', 0.02926161780958897), ('B21 9RY', 'Metformin HCl_Tab 500mg', 0.03549462254750369), ('B23 6DJ', 'Lansoprazole_Cap 30mg (E/C Gran)', 0.024095900880968663), ('B70 7AW', 'Paracet_Tab 500mg', 0.0266896608360023), ('BB11 2DL', 'Omeprazole_Cap E/C 20mg', 0.02884503434625684), ('BB2 1AX', 'Omeprazole_Cap E/C 20mg', 0.03645501521908402), ('BB3 1PY', 'Omeprazole_Cap E/C 20mg', 0.03428477088454342), ('BB4 5SL', 'Omeprazole_Cap E/C 20mg', 0.040696883081529876), ('BB7 2JG', 'Omeprazole_Cap E/C 20mg', 0.029471795446899183), ('BB8 0JZ', 'Atorvastatin_Tab 20mg', 0.022563442442074293), ('BB9 7SR', 'Omeprazole_Cap E/C 20mg', 0.023833193804939305), ('BD3 8QH', 'Atorvastatin_Tab 40mg', 0.03422179914326511), ('BH18 8EE', 'Omeprazole_Cap E/C 20mg', 0.029000583563798747), ('BH23 3AF', 'Omeprazole_Cap E/C 20mg', 0.03733292364418497), ('BL1 8TU', 'Omeprazole_Cap E/C 20mg', 0.03095821215368131), ('BL3 5HP', 'Omeprazole_Cap E/C 20mg', 0.03359487236158692), ('BL9 0NJ', 'Omeprazole_Cap E/C 20mg', 0.033622356683924895), ('BL9 0SN', 'Omeprazole_Cap E/C 20mg', 0.03257264351523742), ('CB9 8HF', 'Omeprazole_Cap E/C 20mg', 0.03586107485828934), ('CH1 4DS', 'Lansoprazole_Cap 30mg (E/C Gran)', 0.026979808105398826), ('CH65 6TG', 'Lansoprazole_Cap 30mg (E/C Gran)', 0.027421283379832604), ('CT11 8AD', 'Omeprazole_Cap E/C 20mg', 0.02371612786870463), ('CV1 4FS', 'Omeprazole_Cap E/C 20mg', 0.02988443966675625), ('CW1 3AW', 'Omeprazole_Cap E/C 20mg', 0.03687757394234369), ('CW5 5NX', 'Omeprazole_Cap E/C 20mg', 0.036574992911823076), ('CW7 1AT', 'Omeprazole_Cap E/C 20mg', 0.038342136965990176), ('DA1 2HA', 'Omeprazole_Cap E/C 20mg', 0.020977948226270374), ('DA11 8BZ', 'Amoxicillin_Cap 500mg', 0.021502698215026983), ('DN22 7XF', 'Simvastatin_Tab 40mg', 0.019888143695899377), ('DN34 4GB', 'Omeprazole_Cap E/C 20mg', 0.03894778497490263), ('FY2 0JG', 'Omeprazole_Cap E/C 20mg', 0.03794959344888452), ('FY4 1TJ', 'Omeprazole_Cap E/C 20mg', 0.04512928155710333), ('FY5 2TZ', 'Omeprazole_Cap E/C 20mg', 0.037575127660535945), ('FY7 8GU', 'Omeprazole_Cap E/C 20mg', 0.03420067879209816), ('GL1 3PX', 'Omeprazole_Cap E/C 20mg', 0.027334732423924448), ('GL50 4DP', 'Omeprazole_Cap E/C 20mg', 0.02469861805351367), ('GU9 9QS', 'Omeprazole_Cap E/C 20mg', 0.028601661946406898), ('HA0 4UZ', 'Metformin HCl_Tab 500mg', 0.02961986376620523), ('HA3 7LT', 'Omeprazole_Cap E/C 20mg', 0.0265001712702021), ('HG1 5AR', 'Omeprazole_Cap E/C 20mg', 0.030014686084934523), ('HU7 4DW', 'Salbutamol_Inha 100mcg (200 D) CFF', 0.026594986458142424), ('KT14 6DH', 'Amlodipine_Tab 5mg', 0.01980716047537185), ('KT6 6EZ', 'Omeprazole_Cap E/C 20mg', 0.029557408595253368), ('L31 0DJ', 'Omeprazole_Cap E/C 20mg', 0.031093092156556992), ('L36 7XY', 'Salbutamol_Inha 100mcg (200 D) CFF', 0.0304811669932506), ('L5 0QW', 'Omeprazole_Cap E/C 20mg', 0.03383854757659264), ('L7 6HD', 'Salbutamol_Inha 100mcg (200 D) CFF', 0.026874016302943456), ('LA1 1PN', 'Omeprazole_Cap E/C 20mg', 0.03593535438892997), ('LE10 1DS', 'Aspirin Disper_Tab 75mg', 0.02211411776629168), ('LE18 2EW', 'Lansoprazole_Cap 15mg (E/C Gran)', 0.026545337066551798), ('LE5 3GH', 'Metformin HCl_Tab 500mg', 0.0354924268862986), ('LN2 2JP', 'Omeprazole_Cap E/C 20mg', 0.036189981157819504), ('LS9 9EF', 'Lansoprazole_Cap 30mg (E/C Gran)', 0.03184116875819442), ('M11 4EJ', 'Omeprazole_Cap E/C 20mg', 0.03207286540619874), ('M26 2SP', 'Omeprazole_Cap E/C 20mg', 0.04085582480513283), ('M30 0NU', 'Omeprazole_Cap E/C 20mg', 0.03824666953158573), ('M35 0AD', 'Omeprazole_Cap E/C 20mg', 0.03085140306122449), ('ME8 8AA', 'Omeprazole_Cap E/C 20mg', 0.02328067466444946), ('N9 7HD', 'Lansoprazole_Cap 30mg (E/C Gran)', 0.026281508499967434), ('NE10 9QG', 'Paracet_Tab 500mg', 0.044305701820370094), ('NE24 1DX', 'Paracet_Tab 500mg', 0.0320651205165277), ('NE37 2PU', 'Paracet_Tab 500mg', 0.02777391304347826), ('NE38 7NQ', 'Paracet_Tab 500mg', 0.031134594625305382), ('NG7 3GW', 'Paracet_Tab 500mg', 0.022318906091083737), ('NG7 5HY', 'Paracet_Tab 500mg', 0.02509737782596474), ('NN16 8DN', 'Omeprazole_Cap E/C 20mg', 0.03547300624372181), ('NW10 8RY', 'Metformin HCl_Tab 500mg', 0.030900570686215375), ('OL1 1NL', 'Omeprazole_Cap E/C 20mg', 0.033425912390975976), ('OL11 1DN', 'Omeprazole_Cap E/C 20mg', 0.032178791672462556), ('OL4 1YN', 'Omeprazole_Cap E/C 20mg', 0.02989427633977397), ('OL9 7AY', 'Omeprazole_Cap E/C 20mg', 0.03317602310347256), ('PL7 1AD', 'Omeprazole_Cap E/C 20mg', 0.03856973759050591), ('RM3 9SU', 'Salbutamol_Inha 100mcg (200 D) CFF', 0.027516093578269743), ('S63 9EH', 'Salbutamol_Inha 100mcg (200 D) CFF', 0.03003995745537126), ('S65 1DA', 'Influenza_Vac Inact 0.5ml Pfs', 0.023771326534882748), ('S74 9AF', 'Omeprazole_Cap E/C 20mg', 0.035946116987614136), ('SE1 6JP', 'Metformin HCl_Tab 500mg', 0.023339995558516544), ('SE15 5LJ', 'Metformin HCl_Tab 500mg', 0.02451173155066195), ('SK11 6JL', 'Omeprazole_Cap E/C 20mg', 0.029244760200234393), ('SK6 1ND', 'Lansoprazole_Cap 30mg (E/C Gran)', 0.019072510860735352), ('SM3 8EP', 'Omeprazole_Cap E/C 20mg', 0.02976166633286601), ('SM6 0HY', 'Omeprazole_Cap E/C 20mg', 0.03170636300417246), ('SR4 7XF', 'Paracet_Tab 500mg', 0.03414722227795277), ('SR5 2LT', 'Paracet_Tab 500mg', 0.03603964806771355), ('SS0 7AF', 'Omeprazole_Cap E/C 20mg', 0.02118781584681719), ('SS13 3HQ', 'Lansoprazole_Cap 30mg (E/C Gran)', 0.025575779606885986), ('SS8 0JA', 'Omeprazole_Cap E/C 20mg', 0.026893212353864944), ('SS9 5UU', 'Influvac Sub-Unit_Vac 0.5ml Pfs', 0.02536884460624641), ('ST1 4PB', 'Omeprazole_Cap E/C 20mg', 0.029595079869567012), ('ST3 6AB', 'Omeprazole_Cap E/C 20mg', 0.03128794729363132), ('ST8 6AG', 'Omeprazole_Cap E/C 20mg', 0.03963379302352532), ('TN24 0GP', 'Amoxicillin_Cap 500mg', 0.08493069890887643), ('TN34 1BA', 'Omeprazole_Cap E/C 20mg', 0.03102866779089376), ('TR1 2JA', 'Omeprazole_Cap E/C 20mg', 0.04630044285216699), ('TS1 2NX', 'Paracet_Tab 500mg', 0.027549713373789975), ('TS10 4NW', 'Paracet_Tab 500mg', 0.023228006465755853), ('TS17 0EE', 'Lansoprazole_Cap 30mg (E/C Gran)', 0.025048254079663098), ('TS23 2DG', 'Paracet_Tab 500mg', 0.025532452758642483), ('TS24 7PW', 'Paracet_Tab 500mg', 0.03858642431322693)]\n"
     ]
    }
   ],
   "source": [
    "items_by_region = sorted(item_by_post)[:100]\n",
    "print(items_by_region)"
   ]
  },
  {
   "cell_type": "code",
   "execution_count": 47,
   "metadata": {},
   "outputs": [
    {
     "name": "stdout",
     "output_type": "stream",
     "text": [
      "==================\n",
      "Your score:  1.0\n",
      "==================\n"
     ]
    }
   ],
   "source": [
    "grader.score.pw__items_by_region(items_by_region)"
   ]
  },
  {
   "cell_type": "markdown",
   "metadata": {},
   "source": [
    "*Copyright &copy; 2020 The Data Incubator.  All rights reserved.*"
   ]
  }
 ],
 "metadata": {
  "kernelspec": {
   "display_name": "Python 3",
   "language": "python",
   "name": "python3"
  },
  "language_info": {
   "codemirror_mode": {
    "name": "ipython",
    "version": 3
   },
   "file_extension": ".py",
   "mimetype": "text/x-python",
   "name": "python",
   "nbconvert_exporter": "python",
   "pygments_lexer": "ipython3",
   "version": "3.7.3"
  },
  "nbclean": true
 },
 "nbformat": 4,
 "nbformat_minor": 1
}
